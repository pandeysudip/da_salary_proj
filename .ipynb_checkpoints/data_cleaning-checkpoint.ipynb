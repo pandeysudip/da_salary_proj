{
 "cells": [
  {
   "cell_type": "code",
   "execution_count": 1,
   "metadata": {},
   "outputs": [
    {
     "name": "stderr",
     "output_type": "stream",
     "text": [
      "/Users/sudippandey/anaconda3/lib/python3.7/site-packages/statsmodels/tools/_testing.py:19: FutureWarning: pandas.util.testing is deprecated. Use the functions in the public API at pandas.testing instead.\n",
      "  import pandas.util.testing as tm\n"
     ]
    }
   ],
   "source": [
    "import pandas as pd\n",
    "import numpy as np\n",
    "import seaborn as sns\n",
    "import math\n",
    "import sympy as sym\n",
    "import re\n",
    "import matplotlib.pyplot as plt\n",
    "%matplotlib inline"
   ]
  },
  {
   "cell_type": "code",
   "execution_count": 2,
   "metadata": {},
   "outputs": [
    {
     "data": {
      "text/plain": [
       "'/Users/sudippandey/Documents/ds_salary_proj'"
      ]
     },
     "execution_count": 2,
     "metadata": {},
     "output_type": "execute_result"
    }
   ],
   "source": [
    "#%magic\n",
    "%pwd"
   ]
  },
  {
   "cell_type": "code",
   "execution_count": 3,
   "metadata": {},
   "outputs": [
    {
     "name": "stdout",
     "output_type": "stream",
     "text": [
      "How_to_open_website.py  \u001b[31mchromedriver\u001b[m\u001b[m*           glassdoor_jobs.csv\r\n",
      "README.md               data_cleaning.ipynb     glassdoor_scapper.py\r\n",
      "\u001b[34m__pycache__\u001b[m\u001b[m/            data_collection.py\r\n"
     ]
    }
   ],
   "source": [
    "%ls"
   ]
  },
  {
   "cell_type": "code",
   "execution_count": 4,
   "metadata": {},
   "outputs": [],
   "source": [
    "#reading csv file\n",
    "df=pd.read_csv('glassdoor_jobs.csv')"
   ]
  },
  {
   "cell_type": "code",
   "execution_count": 5,
   "metadata": {
    "scrolled": true
   },
   "outputs": [
    {
     "data": {
      "text/html": [
       "<div>\n",
       "<style scoped>\n",
       "    .dataframe tbody tr th:only-of-type {\n",
       "        vertical-align: middle;\n",
       "    }\n",
       "\n",
       "    .dataframe tbody tr th {\n",
       "        vertical-align: top;\n",
       "    }\n",
       "\n",
       "    .dataframe thead th {\n",
       "        text-align: right;\n",
       "    }\n",
       "</style>\n",
       "<table border=\"1\" class=\"dataframe\">\n",
       "  <thead>\n",
       "    <tr style=\"text-align: right;\">\n",
       "      <th></th>\n",
       "      <th>Job Title</th>\n",
       "      <th>Salary Estimate</th>\n",
       "      <th>Job Description</th>\n",
       "      <th>Rating</th>\n",
       "      <th>Company Name</th>\n",
       "      <th>Location</th>\n",
       "      <th>Headquarters</th>\n",
       "      <th>Size</th>\n",
       "      <th>Founded</th>\n",
       "      <th>Type of ownership</th>\n",
       "      <th>Industry</th>\n",
       "      <th>Sector</th>\n",
       "      <th>Revenue</th>\n",
       "      <th>Competitors</th>\n",
       "    </tr>\n",
       "  </thead>\n",
       "  <tbody>\n",
       "    <tr>\n",
       "      <th>0</th>\n",
       "      <td>Data Scientist</td>\n",
       "      <td>$112K-$133K (Glassdoor est.)</td>\n",
       "      <td>About Us:\\n\\nLocated in Allen, TX Cytracom is ...</td>\n",
       "      <td>5.0</td>\n",
       "      <td>Cytracom\\n5.0</td>\n",
       "      <td>Allen, TX</td>\n",
       "      <td>Allen, TX</td>\n",
       "      <td>1 to 50 employees</td>\n",
       "      <td>2008</td>\n",
       "      <td>Company - Private</td>\n",
       "      <td>Enterprise Software &amp; Network Solutions</td>\n",
       "      <td>Information Technology</td>\n",
       "      <td>Unknown / Non-Applicable</td>\n",
       "      <td>RingCentral, Nextiva, 8x8</td>\n",
       "    </tr>\n",
       "    <tr>\n",
       "      <th>1</th>\n",
       "      <td>Data Scientist</td>\n",
       "      <td>$112K-$133K (Glassdoor est.)</td>\n",
       "      <td>Entefy’s Senior Data Scientist is a highly vis...</td>\n",
       "      <td>4.3</td>\n",
       "      <td>Entefy\\n4.3</td>\n",
       "      <td>Palo Alto, CA</td>\n",
       "      <td>Palo Alto, CA</td>\n",
       "      <td>1 to 50 employees</td>\n",
       "      <td>2012</td>\n",
       "      <td>Company - Private</td>\n",
       "      <td>Internet</td>\n",
       "      <td>Information Technology</td>\n",
       "      <td>Unknown / Non-Applicable</td>\n",
       "      <td>-1</td>\n",
       "    </tr>\n",
       "    <tr>\n",
       "      <th>2</th>\n",
       "      <td>Data Analyst</td>\n",
       "      <td>$112K-$133K (Glassdoor est.)</td>\n",
       "      <td>Breckenridge Grand Vacations (BGV) is seeking ...</td>\n",
       "      <td>4.6</td>\n",
       "      <td>Breckenridge Grand Vacations\\n4.6</td>\n",
       "      <td>Breckenridge, CO</td>\n",
       "      <td>Breckenridge, CO</td>\n",
       "      <td>501 to 1000 employees</td>\n",
       "      <td>1984</td>\n",
       "      <td>Company - Private</td>\n",
       "      <td>Hotels, Motels, &amp; Resorts</td>\n",
       "      <td>Travel &amp; Tourism</td>\n",
       "      <td>$10 to $25 million (USD)</td>\n",
       "      <td>-1</td>\n",
       "    </tr>\n",
       "    <tr>\n",
       "      <th>3</th>\n",
       "      <td>Data &amp; Analytics Consultant</td>\n",
       "      <td>$112K-$133K (Glassdoor est.)</td>\n",
       "      <td>WHO WE LOOK FOR\\n\\nAn SEI Consultant is a mast...</td>\n",
       "      <td>4.6</td>\n",
       "      <td>SEI\\n4.6</td>\n",
       "      <td>Atlanta, GA</td>\n",
       "      <td>Cincinnati, OH</td>\n",
       "      <td>201 to 500 employees</td>\n",
       "      <td>1992</td>\n",
       "      <td>Company - Private</td>\n",
       "      <td>Consulting</td>\n",
       "      <td>Business Services</td>\n",
       "      <td>$50 to $100 million (USD)</td>\n",
       "      <td>-1</td>\n",
       "    </tr>\n",
       "    <tr>\n",
       "      <th>4</th>\n",
       "      <td>Data Analyst</td>\n",
       "      <td>$112K-$133K (Glassdoor est.)</td>\n",
       "      <td>At Make-A-Wish® America, we are more than a gr...</td>\n",
       "      <td>3.6</td>\n",
       "      <td>Make-A-Wish Foundation of America\\n3.6</td>\n",
       "      <td>Phoenix, AZ</td>\n",
       "      <td>Phoenix, AZ</td>\n",
       "      <td>1001 to 5000 employees</td>\n",
       "      <td>1980</td>\n",
       "      <td>Nonprofit Organization</td>\n",
       "      <td>Social Assistance</td>\n",
       "      <td>Non-Profit</td>\n",
       "      <td>$100 to $500 million (USD)</td>\n",
       "      <td>-1</td>\n",
       "    </tr>\n",
       "    <tr>\n",
       "      <th>5</th>\n",
       "      <td>Market Data Analyst</td>\n",
       "      <td>$112K-$133K (Glassdoor est.)</td>\n",
       "      <td>A bit about us:\\n\\nWe’re on a mission to chang...</td>\n",
       "      <td>4.3</td>\n",
       "      <td>Devoted Health\\n4.3</td>\n",
       "      <td>Houston, TX</td>\n",
       "      <td>Waltham, MA</td>\n",
       "      <td>201 to 500 employees</td>\n",
       "      <td>2017</td>\n",
       "      <td>Company - Private</td>\n",
       "      <td>Health Care Services &amp; Hospitals</td>\n",
       "      <td>Health Care</td>\n",
       "      <td>Unknown / Non-Applicable</td>\n",
       "      <td>-1</td>\n",
       "    </tr>\n",
       "    <tr>\n",
       "      <th>6</th>\n",
       "      <td>Senior Data Scientist</td>\n",
       "      <td>$112K-$133K (Glassdoor est.)</td>\n",
       "      <td>GEICO’s Data Science team uses predictive anal...</td>\n",
       "      <td>3.3</td>\n",
       "      <td>GEICO\\n3.3</td>\n",
       "      <td>Chevy Chase, MD</td>\n",
       "      <td>Washington, DC</td>\n",
       "      <td>10000+ employees</td>\n",
       "      <td>1936</td>\n",
       "      <td>Subsidiary or Business Segment</td>\n",
       "      <td>Insurance Carriers</td>\n",
       "      <td>Insurance</td>\n",
       "      <td>$10+ billion (USD)</td>\n",
       "      <td>-1</td>\n",
       "    </tr>\n",
       "    <tr>\n",
       "      <th>7</th>\n",
       "      <td>Data Scientist</td>\n",
       "      <td>$112K-$133K (Glassdoor est.)</td>\n",
       "      <td>As a Data Scientist, you will have the unique ...</td>\n",
       "      <td>3.3</td>\n",
       "      <td>NT Concepts\\n3.3</td>\n",
       "      <td>Chantilly, VA</td>\n",
       "      <td>Vienna, VA</td>\n",
       "      <td>501 to 1000 employees</td>\n",
       "      <td>1998</td>\n",
       "      <td>Company - Private</td>\n",
       "      <td>IT Services</td>\n",
       "      <td>Information Technology</td>\n",
       "      <td>$100 to $500 million (USD)</td>\n",
       "      <td>-1</td>\n",
       "    </tr>\n",
       "    <tr>\n",
       "      <th>8</th>\n",
       "      <td>Machine Learning Engineer</td>\n",
       "      <td>$112K-$133K (Glassdoor est.)</td>\n",
       "      <td>CircleUp harnesses the power of machine learni...</td>\n",
       "      <td>4.5</td>\n",
       "      <td>CircleUp\\n4.5</td>\n",
       "      <td>San Francisco, CA</td>\n",
       "      <td>San Francisco, CA</td>\n",
       "      <td>51 to 200 employees</td>\n",
       "      <td>2012</td>\n",
       "      <td>Company - Private</td>\n",
       "      <td>Venture Capital &amp; Private Equity</td>\n",
       "      <td>Finance</td>\n",
       "      <td>Unknown / Non-Applicable</td>\n",
       "      <td>-1</td>\n",
       "    </tr>\n",
       "    <tr>\n",
       "      <th>9</th>\n",
       "      <td>Data Engineer</td>\n",
       "      <td>$112K-$133K (Glassdoor est.)</td>\n",
       "      <td>U.S. citizenship is required for this position...</td>\n",
       "      <td>3.0</td>\n",
       "      <td>WPS Health Solutions\\n3.0</td>\n",
       "      <td>Madison, WI</td>\n",
       "      <td>Monona, WI</td>\n",
       "      <td>1001 to 5000 employees</td>\n",
       "      <td>1946</td>\n",
       "      <td>Company - Private</td>\n",
       "      <td>Insurance Carriers</td>\n",
       "      <td>Insurance</td>\n",
       "      <td>$2 to $5 billion (USD)</td>\n",
       "      <td>-1</td>\n",
       "    </tr>\n",
       "    <tr>\n",
       "      <th>10</th>\n",
       "      <td>Data Scientist (Palo Alto, CA or Remote US)</td>\n",
       "      <td>$112K-$133K (Glassdoor est.)</td>\n",
       "      <td>The Opportunity\\n\\nEversight is the recognized...</td>\n",
       "      <td>4.2</td>\n",
       "      <td>Eversight\\n4.2</td>\n",
       "      <td>Remote</td>\n",
       "      <td>Palo Alto, CA</td>\n",
       "      <td>51 to 200 employees</td>\n",
       "      <td>2013</td>\n",
       "      <td>Company - Private</td>\n",
       "      <td>Enterprise Software &amp; Network Solutions</td>\n",
       "      <td>Information Technology</td>\n",
       "      <td>$10 to $25 million (USD)</td>\n",
       "      <td>-1</td>\n",
       "    </tr>\n",
       "    <tr>\n",
       "      <th>11</th>\n",
       "      <td>Junior Business Intelligence Analyst</td>\n",
       "      <td>$112K-$133K (Glassdoor est.)</td>\n",
       "      <td>Junior Business Intelligence Analyst\\nMWE is s...</td>\n",
       "      <td>-1.0</td>\n",
       "      <td>Midwest Equipment Sales, LLC</td>\n",
       "      <td>Columbus, OH</td>\n",
       "      <td>-1</td>\n",
       "      <td>-1</td>\n",
       "      <td>-1</td>\n",
       "      <td>-1</td>\n",
       "      <td>-1</td>\n",
       "      <td>-1</td>\n",
       "      <td>-1</td>\n",
       "      <td>-1</td>\n",
       "    </tr>\n",
       "    <tr>\n",
       "      <th>12</th>\n",
       "      <td>Data Scientist, Health Economics &amp; Advanced An...</td>\n",
       "      <td>$112K-$133K (Glassdoor est.)</td>\n",
       "      <td>Overview\\n\\n\\nAvalere Health is seeking a Data...</td>\n",
       "      <td>3.2</td>\n",
       "      <td>Avalere Health\\n3.2</td>\n",
       "      <td>Washington, DC</td>\n",
       "      <td>Washington, DC</td>\n",
       "      <td>201 to 500 employees</td>\n",
       "      <td>2000</td>\n",
       "      <td>Company - Public</td>\n",
       "      <td>Consulting</td>\n",
       "      <td>Business Services</td>\n",
       "      <td>Unknown / Non-Applicable</td>\n",
       "      <td>-1</td>\n",
       "    </tr>\n",
       "    <tr>\n",
       "      <th>13</th>\n",
       "      <td>Data Scientist, Product Analytics</td>\n",
       "      <td>$112K-$133K (Glassdoor est.)</td>\n",
       "      <td>At Noom, we use scientifically proven methods ...</td>\n",
       "      <td>4.5</td>\n",
       "      <td>Noom US\\n4.5</td>\n",
       "      <td>New York, NY</td>\n",
       "      <td>New York, NY</td>\n",
       "      <td>1001 to 5000 employees</td>\n",
       "      <td>2008</td>\n",
       "      <td>Company - Private</td>\n",
       "      <td>Health, Beauty, &amp; Fitness</td>\n",
       "      <td>Consumer Services</td>\n",
       "      <td>Unknown / Non-Applicable</td>\n",
       "      <td>-1</td>\n",
       "    </tr>\n",
       "    <tr>\n",
       "      <th>14</th>\n",
       "      <td>Data Scientist</td>\n",
       "      <td>$112K-$133K (Glassdoor est.)</td>\n",
       "      <td>Why We Work at Dun &amp; Bradstreet\\n\\n\\nWe are at...</td>\n",
       "      <td>3.0</td>\n",
       "      <td>Dun &amp; Bradstreet\\n3.0</td>\n",
       "      <td>Austin, TX</td>\n",
       "      <td>Short Hills, NJ</td>\n",
       "      <td>1001 to 5000 employees</td>\n",
       "      <td>1841</td>\n",
       "      <td>Company - Public</td>\n",
       "      <td>IT Services</td>\n",
       "      <td>Information Technology</td>\n",
       "      <td>$1 to $2 billion (USD)</td>\n",
       "      <td>Experian, Equifax</td>\n",
       "    </tr>\n",
       "    <tr>\n",
       "      <th>15</th>\n",
       "      <td>Data Analyst (Informatica)</td>\n",
       "      <td>$112K-$133K (Glassdoor est.)</td>\n",
       "      <td>Location: Carmel, Indiana, Eagan, Minnesota, o...</td>\n",
       "      <td>3.2</td>\n",
       "      <td>MISO\\n3.2</td>\n",
       "      <td>Carmel, IN</td>\n",
       "      <td>Carmel, IN</td>\n",
       "      <td>501 to 1000 employees</td>\n",
       "      <td>1998</td>\n",
       "      <td>Nonprofit Organization</td>\n",
       "      <td>Energy</td>\n",
       "      <td>Oil, Gas, Energy &amp; Utilities</td>\n",
       "      <td>Unknown / Non-Applicable</td>\n",
       "      <td>PJM Interconnection, Southwest Power Pool</td>\n",
       "    </tr>\n",
       "    <tr>\n",
       "      <th>16</th>\n",
       "      <td>Senior Data Scientist</td>\n",
       "      <td>$112K-$133K (Glassdoor est.)</td>\n",
       "      <td>NanoMosaic LLC, located in Woburn, Massachuset...</td>\n",
       "      <td>-1.0</td>\n",
       "      <td>NanoMosaic</td>\n",
       "      <td>Woburn, MA</td>\n",
       "      <td>Woburn, MA</td>\n",
       "      <td>Unknown</td>\n",
       "      <td>-1</td>\n",
       "      <td>Unknown</td>\n",
       "      <td>-1</td>\n",
       "      <td>-1</td>\n",
       "      <td>Unknown / Non-Applicable</td>\n",
       "      <td>-1</td>\n",
       "    </tr>\n",
       "    <tr>\n",
       "      <th>17</th>\n",
       "      <td>Data Scientist</td>\n",
       "      <td>$112K-$133K (Glassdoor est.)</td>\n",
       "      <td>Data Scientist\\nAffinity Solutions / Marketing...</td>\n",
       "      <td>3.0</td>\n",
       "      <td>Affinity Solutions\\n3.0</td>\n",
       "      <td>New York, NY</td>\n",
       "      <td>New York, NY</td>\n",
       "      <td>51 to 200 employees</td>\n",
       "      <td>1998</td>\n",
       "      <td>Company - Private</td>\n",
       "      <td>Advertising &amp; Marketing</td>\n",
       "      <td>Business Services</td>\n",
       "      <td>Unknown / Non-Applicable</td>\n",
       "      <td>Commerce Signals, Cardlytics, Yodlee</td>\n",
       "    </tr>\n",
       "    <tr>\n",
       "      <th>18</th>\n",
       "      <td>Data Analyst/Programmer</td>\n",
       "      <td>$112K-$133K (Glassdoor est.)</td>\n",
       "      <td>Data Analyst/Programmer\\n\\n\\nWoodland Hills\\n\\...</td>\n",
       "      <td>3.2</td>\n",
       "      <td>Apollo Global Management\\n3.2</td>\n",
       "      <td>Woodland Hills, UT</td>\n",
       "      <td>New York, NY</td>\n",
       "      <td>1001 to 5000 employees</td>\n",
       "      <td>1990</td>\n",
       "      <td>Company - Public</td>\n",
       "      <td>Venture Capital &amp; Private Equity</td>\n",
       "      <td>Finance</td>\n",
       "      <td>$1 to $2 billion (USD)</td>\n",
       "      <td>-1</td>\n",
       "    </tr>\n",
       "    <tr>\n",
       "      <th>19</th>\n",
       "      <td>Data Scientist - Statistics, Early Career</td>\n",
       "      <td>$112K-$133K (Glassdoor est.)</td>\n",
       "      <td>*Organization and Job ID**\\nJob ID: 310918\\n\\n...</td>\n",
       "      <td>3.8</td>\n",
       "      <td>Pacific Northwest National Laboratory\\n3.8</td>\n",
       "      <td>Seattle, WA</td>\n",
       "      <td>Richland, WA</td>\n",
       "      <td>1001 to 5000 employees</td>\n",
       "      <td>1965</td>\n",
       "      <td>Government</td>\n",
       "      <td>Energy</td>\n",
       "      <td>Oil, Gas, Energy &amp; Utilities</td>\n",
       "      <td>$500 million to $1 billion (USD)</td>\n",
       "      <td>Oak Ridge National Laboratory, National Renewa...</td>\n",
       "    </tr>\n",
       "  </tbody>\n",
       "</table>\n",
       "</div>"
      ],
      "text/plain": [
       "                                            Job Title  \\\n",
       "0                                      Data Scientist   \n",
       "1                                      Data Scientist   \n",
       "2                                        Data Analyst   \n",
       "3                         Data & Analytics Consultant   \n",
       "4                                        Data Analyst   \n",
       "5                                 Market Data Analyst   \n",
       "6                               Senior Data Scientist   \n",
       "7                                      Data Scientist   \n",
       "8                           Machine Learning Engineer   \n",
       "9                                       Data Engineer   \n",
       "10        Data Scientist (Palo Alto, CA or Remote US)   \n",
       "11               Junior Business Intelligence Analyst   \n",
       "12  Data Scientist, Health Economics & Advanced An...   \n",
       "13                  Data Scientist, Product Analytics   \n",
       "14                                     Data Scientist   \n",
       "15                         Data Analyst (Informatica)   \n",
       "16                              Senior Data Scientist   \n",
       "17                                     Data Scientist   \n",
       "18                            Data Analyst/Programmer   \n",
       "19          Data Scientist - Statistics, Early Career   \n",
       "\n",
       "                 Salary Estimate  \\\n",
       "0   $112K-$133K (Glassdoor est.)   \n",
       "1   $112K-$133K (Glassdoor est.)   \n",
       "2   $112K-$133K (Glassdoor est.)   \n",
       "3   $112K-$133K (Glassdoor est.)   \n",
       "4   $112K-$133K (Glassdoor est.)   \n",
       "5   $112K-$133K (Glassdoor est.)   \n",
       "6   $112K-$133K (Glassdoor est.)   \n",
       "7   $112K-$133K (Glassdoor est.)   \n",
       "8   $112K-$133K (Glassdoor est.)   \n",
       "9   $112K-$133K (Glassdoor est.)   \n",
       "10  $112K-$133K (Glassdoor est.)   \n",
       "11  $112K-$133K (Glassdoor est.)   \n",
       "12  $112K-$133K (Glassdoor est.)   \n",
       "13  $112K-$133K (Glassdoor est.)   \n",
       "14  $112K-$133K (Glassdoor est.)   \n",
       "15  $112K-$133K (Glassdoor est.)   \n",
       "16  $112K-$133K (Glassdoor est.)   \n",
       "17  $112K-$133K (Glassdoor est.)   \n",
       "18  $112K-$133K (Glassdoor est.)   \n",
       "19  $112K-$133K (Glassdoor est.)   \n",
       "\n",
       "                                      Job Description  Rating  \\\n",
       "0   About Us:\\n\\nLocated in Allen, TX Cytracom is ...     5.0   \n",
       "1   Entefy’s Senior Data Scientist is a highly vis...     4.3   \n",
       "2   Breckenridge Grand Vacations (BGV) is seeking ...     4.6   \n",
       "3   WHO WE LOOK FOR\\n\\nAn SEI Consultant is a mast...     4.6   \n",
       "4   At Make-A-Wish® America, we are more than a gr...     3.6   \n",
       "5   A bit about us:\\n\\nWe’re on a mission to chang...     4.3   \n",
       "6   GEICO’s Data Science team uses predictive anal...     3.3   \n",
       "7   As a Data Scientist, you will have the unique ...     3.3   \n",
       "8   CircleUp harnesses the power of machine learni...     4.5   \n",
       "9   U.S. citizenship is required for this position...     3.0   \n",
       "10  The Opportunity\\n\\nEversight is the recognized...     4.2   \n",
       "11  Junior Business Intelligence Analyst\\nMWE is s...    -1.0   \n",
       "12  Overview\\n\\n\\nAvalere Health is seeking a Data...     3.2   \n",
       "13  At Noom, we use scientifically proven methods ...     4.5   \n",
       "14  Why We Work at Dun & Bradstreet\\n\\n\\nWe are at...     3.0   \n",
       "15  Location: Carmel, Indiana, Eagan, Minnesota, o...     3.2   \n",
       "16  NanoMosaic LLC, located in Woburn, Massachuset...    -1.0   \n",
       "17  Data Scientist\\nAffinity Solutions / Marketing...     3.0   \n",
       "18  Data Analyst/Programmer\\n\\n\\nWoodland Hills\\n\\...     3.2   \n",
       "19  *Organization and Job ID**\\nJob ID: 310918\\n\\n...     3.8   \n",
       "\n",
       "                                  Company Name            Location  \\\n",
       "0                                Cytracom\\n5.0           Allen, TX   \n",
       "1                                  Entefy\\n4.3       Palo Alto, CA   \n",
       "2            Breckenridge Grand Vacations\\n4.6    Breckenridge, CO   \n",
       "3                                     SEI\\n4.6         Atlanta, GA   \n",
       "4       Make-A-Wish Foundation of America\\n3.6         Phoenix, AZ   \n",
       "5                          Devoted Health\\n4.3         Houston, TX   \n",
       "6                                   GEICO\\n3.3     Chevy Chase, MD   \n",
       "7                             NT Concepts\\n3.3       Chantilly, VA   \n",
       "8                                CircleUp\\n4.5   San Francisco, CA   \n",
       "9                    WPS Health Solutions\\n3.0         Madison, WI   \n",
       "10                              Eversight\\n4.2              Remote   \n",
       "11                Midwest Equipment Sales, LLC        Columbus, OH   \n",
       "12                         Avalere Health\\n3.2      Washington, DC   \n",
       "13                                Noom US\\n4.5        New York, NY   \n",
       "14                       Dun & Bradstreet\\n3.0          Austin, TX   \n",
       "15                                   MISO\\n3.2          Carmel, IN   \n",
       "16                                  NanoMosaic          Woburn, MA   \n",
       "17                     Affinity Solutions\\n3.0        New York, NY   \n",
       "18               Apollo Global Management\\n3.2  Woodland Hills, UT   \n",
       "19  Pacific Northwest National Laboratory\\n3.8         Seattle, WA   \n",
       "\n",
       "         Headquarters                    Size  Founded  \\\n",
       "0           Allen, TX       1 to 50 employees     2008   \n",
       "1       Palo Alto, CA       1 to 50 employees     2012   \n",
       "2    Breckenridge, CO   501 to 1000 employees     1984   \n",
       "3      Cincinnati, OH    201 to 500 employees     1992   \n",
       "4         Phoenix, AZ  1001 to 5000 employees     1980   \n",
       "5         Waltham, MA    201 to 500 employees     2017   \n",
       "6      Washington, DC        10000+ employees     1936   \n",
       "7          Vienna, VA   501 to 1000 employees     1998   \n",
       "8   San Francisco, CA     51 to 200 employees     2012   \n",
       "9          Monona, WI  1001 to 5000 employees     1946   \n",
       "10      Palo Alto, CA     51 to 200 employees     2013   \n",
       "11                 -1                      -1       -1   \n",
       "12     Washington, DC    201 to 500 employees     2000   \n",
       "13       New York, NY  1001 to 5000 employees     2008   \n",
       "14    Short Hills, NJ  1001 to 5000 employees     1841   \n",
       "15         Carmel, IN   501 to 1000 employees     1998   \n",
       "16         Woburn, MA                 Unknown       -1   \n",
       "17       New York, NY     51 to 200 employees     1998   \n",
       "18       New York, NY  1001 to 5000 employees     1990   \n",
       "19       Richland, WA  1001 to 5000 employees     1965   \n",
       "\n",
       "                 Type of ownership                                 Industry  \\\n",
       "0                Company - Private  Enterprise Software & Network Solutions   \n",
       "1                Company - Private                                 Internet   \n",
       "2                Company - Private                Hotels, Motels, & Resorts   \n",
       "3                Company - Private                               Consulting   \n",
       "4           Nonprofit Organization                        Social Assistance   \n",
       "5                Company - Private         Health Care Services & Hospitals   \n",
       "6   Subsidiary or Business Segment                       Insurance Carriers   \n",
       "7                Company - Private                              IT Services   \n",
       "8                Company - Private         Venture Capital & Private Equity   \n",
       "9                Company - Private                       Insurance Carriers   \n",
       "10               Company - Private  Enterprise Software & Network Solutions   \n",
       "11                              -1                                       -1   \n",
       "12                Company - Public                               Consulting   \n",
       "13               Company - Private                Health, Beauty, & Fitness   \n",
       "14                Company - Public                              IT Services   \n",
       "15          Nonprofit Organization                                   Energy   \n",
       "16                         Unknown                                       -1   \n",
       "17               Company - Private                  Advertising & Marketing   \n",
       "18                Company - Public         Venture Capital & Private Equity   \n",
       "19                      Government                                   Energy   \n",
       "\n",
       "                          Sector                           Revenue  \\\n",
       "0         Information Technology          Unknown / Non-Applicable   \n",
       "1         Information Technology          Unknown / Non-Applicable   \n",
       "2               Travel & Tourism          $10 to $25 million (USD)   \n",
       "3              Business Services         $50 to $100 million (USD)   \n",
       "4                     Non-Profit        $100 to $500 million (USD)   \n",
       "5                    Health Care          Unknown / Non-Applicable   \n",
       "6                      Insurance                $10+ billion (USD)   \n",
       "7         Information Technology        $100 to $500 million (USD)   \n",
       "8                        Finance          Unknown / Non-Applicable   \n",
       "9                      Insurance            $2 to $5 billion (USD)   \n",
       "10        Information Technology          $10 to $25 million (USD)   \n",
       "11                            -1                                -1   \n",
       "12             Business Services          Unknown / Non-Applicable   \n",
       "13             Consumer Services          Unknown / Non-Applicable   \n",
       "14        Information Technology            $1 to $2 billion (USD)   \n",
       "15  Oil, Gas, Energy & Utilities          Unknown / Non-Applicable   \n",
       "16                            -1          Unknown / Non-Applicable   \n",
       "17             Business Services          Unknown / Non-Applicable   \n",
       "18                       Finance            $1 to $2 billion (USD)   \n",
       "19  Oil, Gas, Energy & Utilities  $500 million to $1 billion (USD)   \n",
       "\n",
       "                                          Competitors  \n",
       "0                           RingCentral, Nextiva, 8x8  \n",
       "1                                                  -1  \n",
       "2                                                  -1  \n",
       "3                                                  -1  \n",
       "4                                                  -1  \n",
       "5                                                  -1  \n",
       "6                                                  -1  \n",
       "7                                                  -1  \n",
       "8                                                  -1  \n",
       "9                                                  -1  \n",
       "10                                                 -1  \n",
       "11                                                 -1  \n",
       "12                                                 -1  \n",
       "13                                                 -1  \n",
       "14                                  Experian, Equifax  \n",
       "15          PJM Interconnection, Southwest Power Pool  \n",
       "16                                                 -1  \n",
       "17               Commerce Signals, Cardlytics, Yodlee  \n",
       "18                                                 -1  \n",
       "19  Oak Ridge National Laboratory, National Renewa...  "
      ]
     },
     "execution_count": 5,
     "metadata": {},
     "output_type": "execute_result"
    }
   ],
   "source": [
    "#displaying first five rows and columns\n",
    "df.head(20)"
   ]
  },
  {
   "cell_type": "code",
   "execution_count": 6,
   "metadata": {},
   "outputs": [
    {
     "data": {
      "text/plain": [
       "Index(['Job Title', 'Salary Estimate', 'Job Description', 'Rating',\n",
       "       'Company Name', 'Location', 'Headquarters', 'Size', 'Founded',\n",
       "       'Type of ownership', 'Industry', 'Sector', 'Revenue', 'Competitors'],\n",
       "      dtype='object')"
      ]
     },
     "execution_count": 6,
     "metadata": {},
     "output_type": "execute_result"
    }
   ],
   "source": [
    "df.columns"
   ]
  },
  {
   "cell_type": "code",
   "execution_count": 7,
   "metadata": {},
   "outputs": [
    {
     "data": {
      "text/plain": [
       "(200, 14)"
      ]
     },
     "execution_count": 7,
     "metadata": {},
     "output_type": "execute_result"
    }
   ],
   "source": [
    "df.shape"
   ]
  },
  {
   "cell_type": "code",
   "execution_count": 8,
   "metadata": {},
   "outputs": [
    {
     "name": "stdout",
     "output_type": "stream",
     "text": [
      "<class 'pandas.core.frame.DataFrame'>\n",
      "RangeIndex: 200 entries, 0 to 199\n",
      "Data columns (total 14 columns):\n",
      " #   Column             Non-Null Count  Dtype  \n",
      "---  ------             --------------  -----  \n",
      " 0   Job Title          200 non-null    object \n",
      " 1   Salary Estimate    200 non-null    object \n",
      " 2   Job Description    200 non-null    object \n",
      " 3   Rating             200 non-null    float64\n",
      " 4   Company Name       200 non-null    object \n",
      " 5   Location           200 non-null    object \n",
      " 6   Headquarters       200 non-null    object \n",
      " 7   Size               200 non-null    object \n",
      " 8   Founded            200 non-null    int64  \n",
      " 9   Type of ownership  200 non-null    object \n",
      " 10  Industry           200 non-null    object \n",
      " 11  Sector             200 non-null    object \n",
      " 12  Revenue            200 non-null    object \n",
      " 13  Competitors        200 non-null    object \n",
      "dtypes: float64(1), int64(1), object(12)\n",
      "memory usage: 22.0+ KB\n"
     ]
    }
   ],
   "source": [
    "df.info()"
   ]
  },
  {
   "cell_type": "code",
   "execution_count": 9,
   "metadata": {},
   "outputs": [],
   "source": [
    "#Things to do \n",
    "#salary pursing#\n",
    "#company name text only\n",
    "#state column\n",
    "#age of company\n",
    "#parsing of jobs descriptions\n"
   ]
  },
  {
   "cell_type": "code",
   "execution_count": 10,
   "metadata": {},
   "outputs": [],
   "source": [
    "#salary pursing#"
   ]
  },
  {
   "cell_type": "code",
   "execution_count": 11,
   "metadata": {},
   "outputs": [],
   "source": [
    "#checking if salary estimate column has -1i.e no salaray\n",
    "df=df[df['Salary Estimate']!=-1]"
   ]
  },
  {
   "cell_type": "code",
   "execution_count": 12,
   "metadata": {},
   "outputs": [
    {
     "data": {
      "text/plain": [
       "(200, 14)"
      ]
     },
     "execution_count": 12,
     "metadata": {},
     "output_type": "execute_result"
    }
   ],
   "source": [
    "df.shape"
   ]
  },
  {
   "cell_type": "code",
   "execution_count": 13,
   "metadata": {},
   "outputs": [],
   "source": [
    "#making column for per hour and employee provided salary if that in Salary Estimate column\n",
    "#hourly column 1 if per hour in df\n",
    "#df['hourly']=df['Salary Estimate'].apply(lambda x: 1 if 'per hour' in x.lower()else 0)\n",
    "\n",
    "#employee_provided column 1 if emplyee provided salary: in df\n",
    "#df['employee_provided']= df['Salry Estimate'].apply(lambda x: 1 if 'emplyee provided salary:' in x.lower()else 0))"
   ]
  },
  {
   "cell_type": "code",
   "execution_count": 14,
   "metadata": {},
   "outputs": [],
   "source": [
    "#splitting Salary Estimate column by '(' and choosing only first number part\n",
    "salary = df['Salary Estimate'].apply(lambda x: x.split('(') [0])"
   ]
  },
  {
   "cell_type": "code",
   "execution_count": 15,
   "metadata": {},
   "outputs": [
    {
     "data": {
      "text/plain": [
       "0      $112K-$133K \n",
       "1      $112K-$133K \n",
       "2      $112K-$133K \n",
       "3      $112K-$133K \n",
       "4      $112K-$133K \n",
       "           ...     \n",
       "195     $75K-$127K \n",
       "196     $75K-$127K \n",
       "197     $75K-$127K \n",
       "198     $75K-$127K \n",
       "199     $75K-$127K \n",
       "Name: Salary Estimate, Length: 200, dtype: object"
      ]
     },
     "execution_count": 15,
     "metadata": {},
     "output_type": "execute_result"
    }
   ],
   "source": [
    "salary"
   ]
  },
  {
   "cell_type": "code",
   "execution_count": 16,
   "metadata": {},
   "outputs": [],
   "source": [
    "#removing K and $ sign from salary \n",
    "minus_kd=salary.apply(lambda x: x.replace('K', ' '). replace('$', ' '))"
   ]
  },
  {
   "cell_type": "code",
   "execution_count": null,
   "metadata": {},
   "outputs": [],
   "source": []
  },
  {
   "cell_type": "code",
   "execution_count": 17,
   "metadata": {},
   "outputs": [],
   "source": [
    "#removing per hour and employee provided salary from Salary Estimate (if thats in column)\n",
    "#minus_hr = minus_kd.apply(lambda x: x.lower().replace('per hour', '').replace('emoloyee provided salary:', ''))"
   ]
  },
  {
   "cell_type": "code",
   "execution_count": 18,
   "metadata": {},
   "outputs": [],
   "source": [
    "# making minimum salary column\n",
    "df['min_salary']=minus_kd.apply(lambda x: int(x.split('-')[0]))"
   ]
  },
  {
   "cell_type": "code",
   "execution_count": 19,
   "metadata": {},
   "outputs": [],
   "source": [
    "#making maximum salary column\n",
    "df['max_salary']=minus_kd.apply(lambda x: int(x.split('-')[1]))"
   ]
  },
  {
   "cell_type": "code",
   "execution_count": 20,
   "metadata": {},
   "outputs": [],
   "source": [
    "df['avg_salary']=(df.min_salary+df.max_salary)/2"
   ]
  },
  {
   "cell_type": "code",
   "execution_count": 21,
   "metadata": {},
   "outputs": [],
   "source": [
    "#company name text only#"
   ]
  },
  {
   "cell_type": "code",
   "execution_count": 22,
   "metadata": {},
   "outputs": [
    {
     "data": {
      "text/plain": [
       "0                               Cytracom\\n5.0\n",
       "1                                 Entefy\\n4.3\n",
       "2           Breckenridge Grand Vacations\\n4.6\n",
       "3                                    SEI\\n4.6\n",
       "4      Make-A-Wish Foundation of America\\n3.6\n",
       "                        ...                  \n",
       "195         Southwest Research Institute\\n4.1\n",
       "196              Plymouth Rock Assurance\\n3.5\n",
       "197                            Blackbaud\\n3.6\n",
       "198                         CA-One Tech Cloud\n",
       "199                     Crown Bioscience\\n2.4\n",
       "Name: Company Name, Length: 200, dtype: object"
      ]
     },
     "execution_count": 22,
     "metadata": {},
     "output_type": "execute_result"
    }
   ],
   "source": [
    "df['Company Name']"
   ]
  },
  {
   "cell_type": "code",
   "execution_count": 23,
   "metadata": {},
   "outputs": [],
   "source": [
    "#removing rating number from Company Name. Since if there is no rating in Rating column there is no rating number in Company Name column)\n",
    "df['company_txt']=df.apply(lambda x: x['Company Name'] if x['Rating']<0 else x['Company Name'][:-4], axis=1 )"
   ]
  },
  {
   "cell_type": "code",
   "execution_count": 24,
   "metadata": {},
   "outputs": [
    {
     "data": {
      "text/plain": [
       "0                               Cytracom\n",
       "1                                 Entefy\n",
       "2           Breckenridge Grand Vacations\n",
       "3                                    SEI\n",
       "4      Make-A-Wish Foundation of America\n",
       "                     ...                \n",
       "195         Southwest Research Institute\n",
       "196              Plymouth Rock Assurance\n",
       "197                            Blackbaud\n",
       "198                    CA-One Tech Cloud\n",
       "199                     Crown Bioscience\n",
       "Name: company_txt, Length: 200, dtype: object"
      ]
     },
     "execution_count": 24,
     "metadata": {},
     "output_type": "execute_result"
    }
   ],
   "source": [
    "df['company_txt']"
   ]
  },
  {
   "cell_type": "code",
   "execution_count": 25,
   "metadata": {},
   "outputs": [],
   "source": [
    "#state column#"
   ]
  },
  {
   "cell_type": "code",
   "execution_count": 26,
   "metadata": {
    "scrolled": false
   },
   "outputs": [
    {
     "data": {
      "text/plain": [
       "0              Allen, TX\n",
       "1          Palo Alto, CA\n",
       "2       Breckenridge, CO\n",
       "3            Atlanta, GA\n",
       "4            Phoenix, AZ\n",
       "             ...        \n",
       "195      San Antonio, TX\n",
       "196       Woodbridge, NJ\n",
       "197       Saint Paul, MN\n",
       "198    San Francisco, CA\n",
       "199        San Diego, CA\n",
       "Name: Location, Length: 200, dtype: object"
      ]
     },
     "execution_count": 26,
     "metadata": {},
     "output_type": "execute_result"
    }
   ],
   "source": [
    "df['Location']"
   ]
  },
  {
   "cell_type": "code",
   "execution_count": 27,
   "metadata": {},
   "outputs": [],
   "source": [
    "df['Location'] = df['Location']. apply(lambda x: x.replace('Virginia', 'Virginia, VA').replace( 'New Jersey','New Jersey, NJ').replace('Remote',\"Remote, Remote\").replace( 'Utah', 'Utah, UT').replace('United States','United States, USA')) "
   ]
  },
  {
   "cell_type": "code",
   "execution_count": 28,
   "metadata": {},
   "outputs": [],
   "source": [
    "#making state column\n",
    "df['State'] = df['Location'].apply(lambda x: x.split(',')[-1])"
   ]
  },
  {
   "cell_type": "code",
   "execution_count": 29,
   "metadata": {},
   "outputs": [
    {
     "data": {
      "text/plain": [
       " CA        39\n",
       " NY        18\n",
       " TX        17\n",
       " VA        16\n",
       " MA        13\n",
       " MD         9\n",
       " OH         7\n",
       " WI         7\n",
       " Remote     6\n",
       " IL         6\n",
       " WA         5\n",
       " CO         5\n",
       " DC         5\n",
       " UT         5\n",
       " MN         4\n",
       " IN         3\n",
       " PA         3\n",
       " USA        3\n",
       " NJ         3\n",
       " AZ         3\n",
       " GA         3\n",
       " MO         3\n",
       " NC         2\n",
       " NE         2\n",
       " OR         1\n",
       " NV         1\n",
       " RI         1\n",
       " ND         1\n",
       " MI         1\n",
       " LA         1\n",
       " MS         1\n",
       " DE         1\n",
       " FL         1\n",
       " CT         1\n",
       " KS         1\n",
       " AL         1\n",
       " OK         1\n",
       "Name: State, dtype: int64"
      ]
     },
     "execution_count": 29,
     "metadata": {},
     "output_type": "execute_result"
    }
   ],
   "source": [
    "#looking job for each state\n",
    "df['State'].value_counts()"
   ]
  },
  {
   "cell_type": "code",
   "execution_count": null,
   "metadata": {},
   "outputs": [],
   "source": []
  },
  {
   "cell_type": "code",
   "execution_count": null,
   "metadata": {},
   "outputs": [],
   "source": []
  },
  {
   "cell_type": "code",
   "execution_count": 30,
   "metadata": {},
   "outputs": [],
   "source": [
    "#checking if job posting are in headquaters \n",
    "df['same_state']=df.apply(lambda x: 1 if x['Location'] == x['Headquarters'] else 0, axis=1)"
   ]
  },
  {
   "cell_type": "code",
   "execution_count": 31,
   "metadata": {},
   "outputs": [
    {
     "data": {
      "text/plain": [
       "0      1\n",
       "1      1\n",
       "2      1\n",
       "3      0\n",
       "4      1\n",
       "      ..\n",
       "195    1\n",
       "196    0\n",
       "197    0\n",
       "198    0\n",
       "199    1\n",
       "Name: same_state, Length: 200, dtype: int64"
      ]
     },
     "execution_count": 31,
     "metadata": {},
     "output_type": "execute_result"
    }
   ],
   "source": [
    "df['same_state']"
   ]
  },
  {
   "cell_type": "code",
   "execution_count": 32,
   "metadata": {},
   "outputs": [],
   "source": [
    "#age of company#\n",
    "df['Company_age'] = df['Founded'].apply(lambda x: x if x<1 else 2020-x )"
   ]
  },
  {
   "cell_type": "code",
   "execution_count": null,
   "metadata": {},
   "outputs": [],
   "source": []
  },
  {
   "cell_type": "code",
   "execution_count": 33,
   "metadata": {},
   "outputs": [],
   "source": [
    "#parsing job description#"
   ]
  },
  {
   "cell_type": "code",
   "execution_count": 34,
   "metadata": {},
   "outputs": [
    {
     "data": {
      "text/plain": [
       "\"About Us:\\n\\nLocated in Allen, TX Cytracom is the leading SaaS provider of business voice services delivered through the IT channel and our mission is to make business communications simple!\\n\\nAs for the culture, we love going to work and think you should too! The team holds our company culture near and dear as it represents an intermix between passion for leadership and passion for an active, healthy life centered around family and friends. Cytracom represents community, collaboration, camaraderie and we are DOUBLING in size this year! It's a very exciting time here at Cytracom and we are focused on finding the best talent as we continue to grow!\\n\\nOur Benefits:\\n\\n• Medical, dental, and vision insurance is available\\n• 401K\\n• Disability insurance\\n• Paid vacations and holidays\\n• Flexible PTO policy\\n• Casual, laid-back work environment\\n• Free snacks\\n\\nHere's a closer look at this key role:\\n\\nThe Data Scientist will use data-based insights to conceptualize, plan, and develop solutions to solve complex problems. In this role, you will be responsible for discovering information and identifying patterns within vast amounts of data and using that data to help our teams make smarter decisions. Your primary focus will be in applying data mining techniques, data visualization, doing statistical analysis, and building high-quality prediction systems.\\n\\nRequirements:\\n2+ years of recent experience working as a data scientist.\\nExpertise in SQL (including but not limited to transforming data) and proficiency in another data programming language (Python, R, etc.)\\nExperience in creating experiments and analyzing results that drive key decisions\\nProficiency in one or more analytics & visualization tools (e.g., Looker, Tableau, etc.)\\nStrong interpersonal skills and the ability to tailor communication such as analyses and interpretations to match the audience\\nWe prefer someone who currently lives in the DFW metroplex\\nResponsibilities:\\nMaintain solid working relationships with all stakeholders, primarily the Executive Team.\\nWork with business experts to better understand goals and identify alternative approaches to extract insights from data.\\nDrive adoption of BI platform across organization\\nPresent ideas/analyses/interpretations in a clear, concise manner tailored to audience\\nMaintain integrity, organization and consistency of data by coordinating with system administration to ensure accurate data input or collection and by managing ETL processes\""
      ]
     },
     "execution_count": 34,
     "metadata": {},
     "output_type": "execute_result"
    }
   ],
   "source": [
    "#looking for one company job description\n",
    "df['Job Description'][0]"
   ]
  },
  {
   "cell_type": "markdown",
   "metadata": {},
   "source": [
    "''''\n",
    " def job_des(title):\n",
    "    if 'python' in title.lower():\n",
    "        return 'Python'\n",
    "    if 'r studio' in title.lower():\n",
    "        return 'R Studio'\n",
    "    if 'excel' in title.lower():\n",
    "        return 'Excel'\n",
    "    if 'spark' in title.lower():\n",
    "        return 'Spark''''\n",
    "    "
   ]
  },
  {
   "cell_type": "code",
   "execution_count": 35,
   "metadata": {},
   "outputs": [],
   "source": [
    "#c = df['Job Description'].apply(job_des)\n",
    "#c.value_counts()"
   ]
  },
  {
   "cell_type": "code",
   "execution_count": 36,
   "metadata": {},
   "outputs": [
    {
     "data": {
      "text/plain": [
       "1    135\n",
       "0     65\n",
       "Name: python_req, dtype: int64"
      ]
     },
     "execution_count": 36,
     "metadata": {},
     "output_type": "execute_result"
    }
   ],
   "source": [
    "#python\n",
    "df['python_req'] = df['Job Description'].apply(lambda x: 1 if 'python' in x.lower() else 0)\n",
    "df['python_req']. value_counts()"
   ]
  },
  {
   "cell_type": "code",
   "execution_count": 37,
   "metadata": {},
   "outputs": [
    {
     "data": {
      "text/plain": [
       "0    198\n",
       "1      2\n",
       "Name: rstudio_req, dtype: int64"
      ]
     },
     "execution_count": 37,
     "metadata": {},
     "output_type": "execute_result"
    }
   ],
   "source": [
    "#R studio\n",
    "df['rstudio_req'] = df['Job Description'].apply(lambda x: 1 if 'r' and 'r studio' in x.lower() else 0)\n",
    "df['rstudio_req']. value_counts()"
   ]
  },
  {
   "cell_type": "code",
   "execution_count": 38,
   "metadata": {},
   "outputs": [
    {
     "data": {
      "text/plain": [
       "1    103\n",
       "0     97\n",
       "Name: excel_req, dtype: int64"
      ]
     },
     "execution_count": 38,
     "metadata": {},
     "output_type": "execute_result"
    }
   ],
   "source": [
    "#Excel\n",
    "df['excel_req'] = df['Job Description'].apply(lambda x: 1 if 'excel' in x.lower() else 0)\n",
    "df['excel_req'].value_counts()"
   ]
  },
  {
   "cell_type": "code",
   "execution_count": 39,
   "metadata": {},
   "outputs": [
    {
     "data": {
      "text/plain": [
       "0    156\n",
       "1     44\n",
       "Name: spark_req, dtype: int64"
      ]
     },
     "execution_count": 39,
     "metadata": {},
     "output_type": "execute_result"
    }
   ],
   "source": [
    "#spark\n",
    "df['spark_req'] = df['Job Description'].apply(lambda x: 1 if 'spark' in x.lower() else 0)\n",
    "df['spark_req'].value_counts()"
   ]
  },
  {
   "cell_type": "code",
   "execution_count": 40,
   "metadata": {},
   "outputs": [],
   "source": [
    "#fixing job title and seniority\n",
    "def title_simplifier(title):\n",
    "    if 'data scientist' in title.lower():\n",
    "        return 'data scientist'\n",
    "    elif 'engineer' in title.lower():\n",
    "        return 'data engineer'\n",
    "    elif 'analyst' in title.lower():\n",
    "        return 'data analyst'\n",
    "    elif 'manager' in title.lower():\n",
    "        return 'manager'\n",
    "    elif 'director' in title.lower():\n",
    "        return 'director'\n",
    "    elif 'machine' in title.lower():\n",
    "        return 'machine learning scientist'\n",
    "    else:\n",
    "        return 'na'"
   ]
  },
  {
   "cell_type": "code",
   "execution_count": 41,
   "metadata": {},
   "outputs": [],
   "source": [
    "def seniority(title):\n",
    "    if 'sr' in title.lower() or 'sr.' in title.lower() or'senior'in title.lower() or 'lead'in title.lower() or 'principal'in title.lower():\n",
    "          return 'senior'\n",
    "    elif 'jr' in title.lower() or 'junior' in title.lower() or 'jr.' in title.lower():\n",
    "        return 'junior'\n",
    "    else:\n",
    "        return 'na'"
   ]
  },
  {
   "cell_type": "code",
   "execution_count": 42,
   "metadata": {},
   "outputs": [
    {
     "data": {
      "text/html": [
       "<div>\n",
       "<style scoped>\n",
       "    .dataframe tbody tr th:only-of-type {\n",
       "        vertical-align: middle;\n",
       "    }\n",
       "\n",
       "    .dataframe tbody tr th {\n",
       "        vertical-align: top;\n",
       "    }\n",
       "\n",
       "    .dataframe thead th {\n",
       "        text-align: right;\n",
       "    }\n",
       "</style>\n",
       "<table border=\"1\" class=\"dataframe\">\n",
       "  <thead>\n",
       "    <tr style=\"text-align: right;\">\n",
       "      <th></th>\n",
       "      <th>Job Title</th>\n",
       "      <th>Salary Estimate</th>\n",
       "      <th>Job Description</th>\n",
       "      <th>Rating</th>\n",
       "      <th>Company Name</th>\n",
       "      <th>Location</th>\n",
       "      <th>Headquarters</th>\n",
       "      <th>Size</th>\n",
       "      <th>Founded</th>\n",
       "      <th>Type of ownership</th>\n",
       "      <th>...</th>\n",
       "      <th>max_salary</th>\n",
       "      <th>avg_salary</th>\n",
       "      <th>company_txt</th>\n",
       "      <th>State</th>\n",
       "      <th>same_state</th>\n",
       "      <th>Company_age</th>\n",
       "      <th>python_req</th>\n",
       "      <th>rstudio_req</th>\n",
       "      <th>excel_req</th>\n",
       "      <th>spark_req</th>\n",
       "    </tr>\n",
       "  </thead>\n",
       "  <tbody>\n",
       "    <tr>\n",
       "      <th>0</th>\n",
       "      <td>Data Scientist</td>\n",
       "      <td>$112K-$133K (Glassdoor est.)</td>\n",
       "      <td>About Us:\\n\\nLocated in Allen, TX Cytracom is ...</td>\n",
       "      <td>5.0</td>\n",
       "      <td>Cytracom\\n5.0</td>\n",
       "      <td>Allen, TX</td>\n",
       "      <td>Allen, TX</td>\n",
       "      <td>1 to 50 employees</td>\n",
       "      <td>2008</td>\n",
       "      <td>Company - Private</td>\n",
       "      <td>...</td>\n",
       "      <td>133</td>\n",
       "      <td>122.5</td>\n",
       "      <td>Cytracom</td>\n",
       "      <td>TX</td>\n",
       "      <td>1</td>\n",
       "      <td>12</td>\n",
       "      <td>1</td>\n",
       "      <td>0</td>\n",
       "      <td>0</td>\n",
       "      <td>0</td>\n",
       "    </tr>\n",
       "    <tr>\n",
       "      <th>1</th>\n",
       "      <td>Data Scientist</td>\n",
       "      <td>$112K-$133K (Glassdoor est.)</td>\n",
       "      <td>Entefy’s Senior Data Scientist is a highly vis...</td>\n",
       "      <td>4.3</td>\n",
       "      <td>Entefy\\n4.3</td>\n",
       "      <td>Palo Alto, CA</td>\n",
       "      <td>Palo Alto, CA</td>\n",
       "      <td>1 to 50 employees</td>\n",
       "      <td>2012</td>\n",
       "      <td>Company - Private</td>\n",
       "      <td>...</td>\n",
       "      <td>133</td>\n",
       "      <td>122.5</td>\n",
       "      <td>Entefy</td>\n",
       "      <td>CA</td>\n",
       "      <td>1</td>\n",
       "      <td>8</td>\n",
       "      <td>1</td>\n",
       "      <td>0</td>\n",
       "      <td>0</td>\n",
       "      <td>0</td>\n",
       "    </tr>\n",
       "    <tr>\n",
       "      <th>2</th>\n",
       "      <td>Data Analyst</td>\n",
       "      <td>$112K-$133K (Glassdoor est.)</td>\n",
       "      <td>Breckenridge Grand Vacations (BGV) is seeking ...</td>\n",
       "      <td>4.6</td>\n",
       "      <td>Breckenridge Grand Vacations\\n4.6</td>\n",
       "      <td>Breckenridge, CO</td>\n",
       "      <td>Breckenridge, CO</td>\n",
       "      <td>501 to 1000 employees</td>\n",
       "      <td>1984</td>\n",
       "      <td>Company - Private</td>\n",
       "      <td>...</td>\n",
       "      <td>133</td>\n",
       "      <td>122.5</td>\n",
       "      <td>Breckenridge Grand Vacations</td>\n",
       "      <td>CO</td>\n",
       "      <td>1</td>\n",
       "      <td>36</td>\n",
       "      <td>1</td>\n",
       "      <td>0</td>\n",
       "      <td>1</td>\n",
       "      <td>0</td>\n",
       "    </tr>\n",
       "    <tr>\n",
       "      <th>3</th>\n",
       "      <td>Data &amp; Analytics Consultant</td>\n",
       "      <td>$112K-$133K (Glassdoor est.)</td>\n",
       "      <td>WHO WE LOOK FOR\\n\\nAn SEI Consultant is a mast...</td>\n",
       "      <td>4.6</td>\n",
       "      <td>SEI\\n4.6</td>\n",
       "      <td>Atlanta, GA</td>\n",
       "      <td>Cincinnati, OH</td>\n",
       "      <td>201 to 500 employees</td>\n",
       "      <td>1992</td>\n",
       "      <td>Company - Private</td>\n",
       "      <td>...</td>\n",
       "      <td>133</td>\n",
       "      <td>122.5</td>\n",
       "      <td>SEI</td>\n",
       "      <td>GA</td>\n",
       "      <td>0</td>\n",
       "      <td>28</td>\n",
       "      <td>1</td>\n",
       "      <td>0</td>\n",
       "      <td>1</td>\n",
       "      <td>0</td>\n",
       "    </tr>\n",
       "    <tr>\n",
       "      <th>4</th>\n",
       "      <td>Data Analyst</td>\n",
       "      <td>$112K-$133K (Glassdoor est.)</td>\n",
       "      <td>At Make-A-Wish® America, we are more than a gr...</td>\n",
       "      <td>3.6</td>\n",
       "      <td>Make-A-Wish Foundation of America\\n3.6</td>\n",
       "      <td>Phoenix, AZ</td>\n",
       "      <td>Phoenix, AZ</td>\n",
       "      <td>1001 to 5000 employees</td>\n",
       "      <td>1980</td>\n",
       "      <td>Nonprofit Organization</td>\n",
       "      <td>...</td>\n",
       "      <td>133</td>\n",
       "      <td>122.5</td>\n",
       "      <td>Make-A-Wish Foundation of America</td>\n",
       "      <td>AZ</td>\n",
       "      <td>1</td>\n",
       "      <td>40</td>\n",
       "      <td>0</td>\n",
       "      <td>0</td>\n",
       "      <td>0</td>\n",
       "      <td>0</td>\n",
       "    </tr>\n",
       "    <tr>\n",
       "      <th>...</th>\n",
       "      <td>...</td>\n",
       "      <td>...</td>\n",
       "      <td>...</td>\n",
       "      <td>...</td>\n",
       "      <td>...</td>\n",
       "      <td>...</td>\n",
       "      <td>...</td>\n",
       "      <td>...</td>\n",
       "      <td>...</td>\n",
       "      <td>...</td>\n",
       "      <td>...</td>\n",
       "      <td>...</td>\n",
       "      <td>...</td>\n",
       "      <td>...</td>\n",
       "      <td>...</td>\n",
       "      <td>...</td>\n",
       "      <td>...</td>\n",
       "      <td>...</td>\n",
       "      <td>...</td>\n",
       "      <td>...</td>\n",
       "      <td>...</td>\n",
       "    </tr>\n",
       "    <tr>\n",
       "      <th>195</th>\n",
       "      <td>LEAD ENGINEER - SR. COMPUTER SCIENTIST - SR. R...</td>\n",
       "      <td>$75K-$127K (Glassdoor est.)</td>\n",
       "      <td>What’s the next hardest challenge for autonomo...</td>\n",
       "      <td>4.1</td>\n",
       "      <td>Southwest Research Institute\\n4.1</td>\n",
       "      <td>San Antonio, TX</td>\n",
       "      <td>San Antonio, TX</td>\n",
       "      <td>1001 to 5000 employees</td>\n",
       "      <td>1947</td>\n",
       "      <td>Nonprofit Organization</td>\n",
       "      <td>...</td>\n",
       "      <td>127</td>\n",
       "      <td>101.0</td>\n",
       "      <td>Southwest Research Institute</td>\n",
       "      <td>TX</td>\n",
       "      <td>1</td>\n",
       "      <td>73</td>\n",
       "      <td>0</td>\n",
       "      <td>0</td>\n",
       "      <td>1</td>\n",
       "      <td>0</td>\n",
       "    </tr>\n",
       "    <tr>\n",
       "      <th>196</th>\n",
       "      <td>Senior Data Scientist</td>\n",
       "      <td>$75K-$127K (Glassdoor est.)</td>\n",
       "      <td>The Senior Data Scientist independently develo...</td>\n",
       "      <td>3.5</td>\n",
       "      <td>Plymouth Rock Assurance\\n3.5</td>\n",
       "      <td>Woodbridge, NJ</td>\n",
       "      <td>Boston, MA</td>\n",
       "      <td>1001 to 5000 employees</td>\n",
       "      <td>1982</td>\n",
       "      <td>Company - Private</td>\n",
       "      <td>...</td>\n",
       "      <td>127</td>\n",
       "      <td>101.0</td>\n",
       "      <td>Plymouth Rock Assurance</td>\n",
       "      <td>NJ</td>\n",
       "      <td>0</td>\n",
       "      <td>38</td>\n",
       "      <td>0</td>\n",
       "      <td>0</td>\n",
       "      <td>1</td>\n",
       "      <td>0</td>\n",
       "    </tr>\n",
       "    <tr>\n",
       "      <th>197</th>\n",
       "      <td>Data Architect</td>\n",
       "      <td>$75K-$127K (Glassdoor est.)</td>\n",
       "      <td>The Data Platform at Blackbaud is a core domai...</td>\n",
       "      <td>3.6</td>\n",
       "      <td>Blackbaud\\n3.6</td>\n",
       "      <td>Saint Paul, MN</td>\n",
       "      <td>Charleston, SC</td>\n",
       "      <td>1001 to 5000 employees</td>\n",
       "      <td>1981</td>\n",
       "      <td>Company - Public</td>\n",
       "      <td>...</td>\n",
       "      <td>127</td>\n",
       "      <td>101.0</td>\n",
       "      <td>Blackbaud</td>\n",
       "      <td>MN</td>\n",
       "      <td>0</td>\n",
       "      <td>39</td>\n",
       "      <td>1</td>\n",
       "      <td>0</td>\n",
       "      <td>1</td>\n",
       "      <td>1</td>\n",
       "    </tr>\n",
       "    <tr>\n",
       "      <th>198</th>\n",
       "      <td>Principal Data Scientist with over 10 years ex...</td>\n",
       "      <td>$75K-$127K (Glassdoor est.)</td>\n",
       "      <td>Position Title: Principal Data Scientist\\nLoca...</td>\n",
       "      <td>-1.0</td>\n",
       "      <td>CA-One Tech Cloud</td>\n",
       "      <td>San Francisco, CA</td>\n",
       "      <td>Fremont, CA</td>\n",
       "      <td>51 to 200 employees</td>\n",
       "      <td>2017</td>\n",
       "      <td>Company - Private</td>\n",
       "      <td>...</td>\n",
       "      <td>127</td>\n",
       "      <td>101.0</td>\n",
       "      <td>CA-One Tech Cloud</td>\n",
       "      <td>CA</td>\n",
       "      <td>0</td>\n",
       "      <td>3</td>\n",
       "      <td>1</td>\n",
       "      <td>0</td>\n",
       "      <td>1</td>\n",
       "      <td>0</td>\n",
       "    </tr>\n",
       "    <tr>\n",
       "      <th>199</th>\n",
       "      <td>Scientist - Biomarker and Flow Cytometry</td>\n",
       "      <td>$75K-$127K (Glassdoor est.)</td>\n",
       "      <td>Crown Bioscience, a JSR Life Sciences company,...</td>\n",
       "      <td>2.4</td>\n",
       "      <td>Crown Bioscience\\n2.4</td>\n",
       "      <td>San Diego, CA</td>\n",
       "      <td>San Diego, CA</td>\n",
       "      <td>501 to 1000 employees</td>\n",
       "      <td>2006</td>\n",
       "      <td>Company - Private</td>\n",
       "      <td>...</td>\n",
       "      <td>127</td>\n",
       "      <td>101.0</td>\n",
       "      <td>Crown Bioscience</td>\n",
       "      <td>CA</td>\n",
       "      <td>1</td>\n",
       "      <td>14</td>\n",
       "      <td>0</td>\n",
       "      <td>0</td>\n",
       "      <td>0</td>\n",
       "      <td>0</td>\n",
       "    </tr>\n",
       "  </tbody>\n",
       "</table>\n",
       "<p>200 rows × 25 columns</p>\n",
       "</div>"
      ],
      "text/plain": [
       "                                             Job Title  \\\n",
       "0                                       Data Scientist   \n",
       "1                                       Data Scientist   \n",
       "2                                         Data Analyst   \n",
       "3                          Data & Analytics Consultant   \n",
       "4                                         Data Analyst   \n",
       "..                                                 ...   \n",
       "195  LEAD ENGINEER - SR. COMPUTER SCIENTIST - SR. R...   \n",
       "196                              Senior Data Scientist   \n",
       "197                                     Data Architect   \n",
       "198  Principal Data Scientist with over 10 years ex...   \n",
       "199           Scientist - Biomarker and Flow Cytometry   \n",
       "\n",
       "                  Salary Estimate  \\\n",
       "0    $112K-$133K (Glassdoor est.)   \n",
       "1    $112K-$133K (Glassdoor est.)   \n",
       "2    $112K-$133K (Glassdoor est.)   \n",
       "3    $112K-$133K (Glassdoor est.)   \n",
       "4    $112K-$133K (Glassdoor est.)   \n",
       "..                            ...   \n",
       "195   $75K-$127K (Glassdoor est.)   \n",
       "196   $75K-$127K (Glassdoor est.)   \n",
       "197   $75K-$127K (Glassdoor est.)   \n",
       "198   $75K-$127K (Glassdoor est.)   \n",
       "199   $75K-$127K (Glassdoor est.)   \n",
       "\n",
       "                                       Job Description  Rating  \\\n",
       "0    About Us:\\n\\nLocated in Allen, TX Cytracom is ...     5.0   \n",
       "1    Entefy’s Senior Data Scientist is a highly vis...     4.3   \n",
       "2    Breckenridge Grand Vacations (BGV) is seeking ...     4.6   \n",
       "3    WHO WE LOOK FOR\\n\\nAn SEI Consultant is a mast...     4.6   \n",
       "4    At Make-A-Wish® America, we are more than a gr...     3.6   \n",
       "..                                                 ...     ...   \n",
       "195  What’s the next hardest challenge for autonomo...     4.1   \n",
       "196  The Senior Data Scientist independently develo...     3.5   \n",
       "197  The Data Platform at Blackbaud is a core domai...     3.6   \n",
       "198  Position Title: Principal Data Scientist\\nLoca...    -1.0   \n",
       "199  Crown Bioscience, a JSR Life Sciences company,...     2.4   \n",
       "\n",
       "                               Company Name           Location  \\\n",
       "0                             Cytracom\\n5.0          Allen, TX   \n",
       "1                               Entefy\\n4.3      Palo Alto, CA   \n",
       "2         Breckenridge Grand Vacations\\n4.6   Breckenridge, CO   \n",
       "3                                  SEI\\n4.6        Atlanta, GA   \n",
       "4    Make-A-Wish Foundation of America\\n3.6        Phoenix, AZ   \n",
       "..                                      ...                ...   \n",
       "195       Southwest Research Institute\\n4.1    San Antonio, TX   \n",
       "196            Plymouth Rock Assurance\\n3.5     Woodbridge, NJ   \n",
       "197                          Blackbaud\\n3.6     Saint Paul, MN   \n",
       "198                       CA-One Tech Cloud  San Francisco, CA   \n",
       "199                   Crown Bioscience\\n2.4      San Diego, CA   \n",
       "\n",
       "         Headquarters                    Size  Founded  \\\n",
       "0           Allen, TX       1 to 50 employees     2008   \n",
       "1       Palo Alto, CA       1 to 50 employees     2012   \n",
       "2    Breckenridge, CO   501 to 1000 employees     1984   \n",
       "3      Cincinnati, OH    201 to 500 employees     1992   \n",
       "4         Phoenix, AZ  1001 to 5000 employees     1980   \n",
       "..                ...                     ...      ...   \n",
       "195   San Antonio, TX  1001 to 5000 employees     1947   \n",
       "196        Boston, MA  1001 to 5000 employees     1982   \n",
       "197    Charleston, SC  1001 to 5000 employees     1981   \n",
       "198       Fremont, CA     51 to 200 employees     2017   \n",
       "199     San Diego, CA   501 to 1000 employees     2006   \n",
       "\n",
       "          Type of ownership  ... max_salary avg_salary  \\\n",
       "0         Company - Private  ...        133      122.5   \n",
       "1         Company - Private  ...        133      122.5   \n",
       "2         Company - Private  ...        133      122.5   \n",
       "3         Company - Private  ...        133      122.5   \n",
       "4    Nonprofit Organization  ...        133      122.5   \n",
       "..                      ...  ...        ...        ...   \n",
       "195  Nonprofit Organization  ...        127      101.0   \n",
       "196       Company - Private  ...        127      101.0   \n",
       "197        Company - Public  ...        127      101.0   \n",
       "198       Company - Private  ...        127      101.0   \n",
       "199       Company - Private  ...        127      101.0   \n",
       "\n",
       "                           company_txt State  same_state  Company_age  \\\n",
       "0                             Cytracom    TX           1           12   \n",
       "1                               Entefy    CA           1            8   \n",
       "2         Breckenridge Grand Vacations    CO           1           36   \n",
       "3                                  SEI    GA           0           28   \n",
       "4    Make-A-Wish Foundation of America    AZ           1           40   \n",
       "..                                 ...   ...         ...          ...   \n",
       "195       Southwest Research Institute    TX           1           73   \n",
       "196            Plymouth Rock Assurance    NJ           0           38   \n",
       "197                          Blackbaud    MN           0           39   \n",
       "198                  CA-One Tech Cloud    CA           0            3   \n",
       "199                   Crown Bioscience    CA           1           14   \n",
       "\n",
       "     python_req rstudio_req excel_req  spark_req  \n",
       "0             1           0         0          0  \n",
       "1             1           0         0          0  \n",
       "2             1           0         1          0  \n",
       "3             1           0         1          0  \n",
       "4             0           0         0          0  \n",
       "..          ...         ...       ...        ...  \n",
       "195           0           0         1          0  \n",
       "196           0           0         1          0  \n",
       "197           1           0         1          1  \n",
       "198           1           0         1          0  \n",
       "199           0           0         0          0  \n",
       "\n",
       "[200 rows x 25 columns]"
      ]
     },
     "execution_count": 42,
     "metadata": {},
     "output_type": "execute_result"
    }
   ],
   "source": [
    "df"
   ]
  },
  {
   "cell_type": "code",
   "execution_count": 43,
   "metadata": {},
   "outputs": [
    {
     "data": {
      "text/plain": [
       "data scientist    96\n",
       "data engineer     37\n",
       "data analyst      35\n",
       "na                26\n",
       "manager            5\n",
       "director           1\n",
       "Name: job_simp, dtype: int64"
      ]
     },
     "execution_count": 43,
     "metadata": {},
     "output_type": "execute_result"
    }
   ],
   "source": [
    "df['job_simp'] = df['Job Title']. apply(title_simplifier)\n",
    "df['job_simp']. value_counts()"
   ]
  },
  {
   "cell_type": "code",
   "execution_count": 44,
   "metadata": {},
   "outputs": [
    {
     "data": {
      "text/plain": [
       "na        155\n",
       "senior     43\n",
       "junior      2\n",
       "Name: seniority, dtype: int64"
      ]
     },
     "execution_count": 44,
     "metadata": {},
     "output_type": "execute_result"
    }
   ],
   "source": [
    "df['seniority'] = df['Job Title']. apply(seniority)\n",
    "df['seniority']. value_counts()\n"
   ]
  },
  {
   "cell_type": "code",
   "execution_count": 45,
   "metadata": {},
   "outputs": [],
   "source": [
    "#job description length\n",
    "df['desc_length'] = df['Job Description'].apply(lambda x: len(x))"
   ]
  },
  {
   "cell_type": "code",
   "execution_count": 46,
   "metadata": {},
   "outputs": [
    {
     "data": {
      "text/plain": [
       "0      2462\n",
       "1      1188\n",
       "2      5746\n",
       "3      4135\n",
       "4      3853\n",
       "       ... \n",
       "195    2562\n",
       "196    3239\n",
       "197    6081\n",
       "198    1632\n",
       "199    3374\n",
       "Name: desc_length, Length: 200, dtype: int64"
      ]
     },
     "execution_count": 46,
     "metadata": {},
     "output_type": "execute_result"
    }
   ],
   "source": [
    "df['desc_length']"
   ]
  },
  {
   "cell_type": "code",
   "execution_count": 47,
   "metadata": {},
   "outputs": [
    {
     "data": {
      "text/plain": [
       "0                              RingCentral, Nextiva, 8x8\n",
       "1                                                     -1\n",
       "2                                                     -1\n",
       "3                                                     -1\n",
       "4                                                     -1\n",
       "                             ...                        \n",
       "195    Los Alamos National Laboratory, Battelle, SRI ...\n",
       "196                  Arbella Insurance, Safety Insurance\n",
       "197                                                   -1\n",
       "198                                                   -1\n",
       "199                                                   -1\n",
       "Name: Competitors, Length: 200, dtype: object"
      ]
     },
     "execution_count": 47,
     "metadata": {},
     "output_type": "execute_result"
    }
   ],
   "source": [
    "df['Competitors']"
   ]
  },
  {
   "cell_type": "code",
   "execution_count": 48,
   "metadata": {},
   "outputs": [],
   "source": [
    "#compeititor count by splitting on , and count each if its not equal to -1\n",
    "df['num_competitors'] = df['Competitors'].apply(lambda x: len(x.split(',')) if x != '-1' else 0)"
   ]
  },
  {
   "cell_type": "code",
   "execution_count": 49,
   "metadata": {},
   "outputs": [
    {
     "data": {
      "text/plain": [
       "0      3\n",
       "1      0\n",
       "2      0\n",
       "3      0\n",
       "4      0\n",
       "      ..\n",
       "195    3\n",
       "196    2\n",
       "197    0\n",
       "198    0\n",
       "199    0\n",
       "Name: num_competitors, Length: 200, dtype: int64"
      ]
     },
     "execution_count": 49,
     "metadata": {},
     "output_type": "execute_result"
    }
   ],
   "source": [
    "df['num_competitors']"
   ]
  },
  {
   "cell_type": "code",
   "execution_count": 50,
   "metadata": {},
   "outputs": [
    {
     "data": {
      "text/html": [
       "<div>\n",
       "<style scoped>\n",
       "    .dataframe tbody tr th:only-of-type {\n",
       "        vertical-align: middle;\n",
       "    }\n",
       "\n",
       "    .dataframe tbody tr th {\n",
       "        vertical-align: top;\n",
       "    }\n",
       "\n",
       "    .dataframe thead th {\n",
       "        text-align: right;\n",
       "    }\n",
       "</style>\n",
       "<table border=\"1\" class=\"dataframe\">\n",
       "  <thead>\n",
       "    <tr style=\"text-align: right;\">\n",
       "      <th></th>\n",
       "      <th>Job Title</th>\n",
       "      <th>Salary Estimate</th>\n",
       "      <th>Job Description</th>\n",
       "      <th>Rating</th>\n",
       "      <th>Company Name</th>\n",
       "      <th>Location</th>\n",
       "      <th>Headquarters</th>\n",
       "      <th>Size</th>\n",
       "      <th>Founded</th>\n",
       "      <th>Type of ownership</th>\n",
       "      <th>...</th>\n",
       "      <th>same_state</th>\n",
       "      <th>Company_age</th>\n",
       "      <th>python_req</th>\n",
       "      <th>rstudio_req</th>\n",
       "      <th>excel_req</th>\n",
       "      <th>spark_req</th>\n",
       "      <th>job_simp</th>\n",
       "      <th>seniority</th>\n",
       "      <th>desc_length</th>\n",
       "      <th>num_competitors</th>\n",
       "    </tr>\n",
       "  </thead>\n",
       "  <tbody>\n",
       "    <tr>\n",
       "      <th>0</th>\n",
       "      <td>Data Scientist</td>\n",
       "      <td>$112K-$133K (Glassdoor est.)</td>\n",
       "      <td>About Us:\\n\\nLocated in Allen, TX Cytracom is ...</td>\n",
       "      <td>5.0</td>\n",
       "      <td>Cytracom\\n5.0</td>\n",
       "      <td>Allen, TX</td>\n",
       "      <td>Allen, TX</td>\n",
       "      <td>1 to 50 employees</td>\n",
       "      <td>2008</td>\n",
       "      <td>Company - Private</td>\n",
       "      <td>...</td>\n",
       "      <td>1</td>\n",
       "      <td>12</td>\n",
       "      <td>1</td>\n",
       "      <td>0</td>\n",
       "      <td>0</td>\n",
       "      <td>0</td>\n",
       "      <td>data scientist</td>\n",
       "      <td>na</td>\n",
       "      <td>2462</td>\n",
       "      <td>3</td>\n",
       "    </tr>\n",
       "    <tr>\n",
       "      <th>1</th>\n",
       "      <td>Data Scientist</td>\n",
       "      <td>$112K-$133K (Glassdoor est.)</td>\n",
       "      <td>Entefy’s Senior Data Scientist is a highly vis...</td>\n",
       "      <td>4.3</td>\n",
       "      <td>Entefy\\n4.3</td>\n",
       "      <td>Palo Alto, CA</td>\n",
       "      <td>Palo Alto, CA</td>\n",
       "      <td>1 to 50 employees</td>\n",
       "      <td>2012</td>\n",
       "      <td>Company - Private</td>\n",
       "      <td>...</td>\n",
       "      <td>1</td>\n",
       "      <td>8</td>\n",
       "      <td>1</td>\n",
       "      <td>0</td>\n",
       "      <td>0</td>\n",
       "      <td>0</td>\n",
       "      <td>data scientist</td>\n",
       "      <td>na</td>\n",
       "      <td>1188</td>\n",
       "      <td>0</td>\n",
       "    </tr>\n",
       "    <tr>\n",
       "      <th>2</th>\n",
       "      <td>Data Analyst</td>\n",
       "      <td>$112K-$133K (Glassdoor est.)</td>\n",
       "      <td>Breckenridge Grand Vacations (BGV) is seeking ...</td>\n",
       "      <td>4.6</td>\n",
       "      <td>Breckenridge Grand Vacations\\n4.6</td>\n",
       "      <td>Breckenridge, CO</td>\n",
       "      <td>Breckenridge, CO</td>\n",
       "      <td>501 to 1000 employees</td>\n",
       "      <td>1984</td>\n",
       "      <td>Company - Private</td>\n",
       "      <td>...</td>\n",
       "      <td>1</td>\n",
       "      <td>36</td>\n",
       "      <td>1</td>\n",
       "      <td>0</td>\n",
       "      <td>1</td>\n",
       "      <td>0</td>\n",
       "      <td>data analyst</td>\n",
       "      <td>na</td>\n",
       "      <td>5746</td>\n",
       "      <td>0</td>\n",
       "    </tr>\n",
       "    <tr>\n",
       "      <th>3</th>\n",
       "      <td>Data &amp; Analytics Consultant</td>\n",
       "      <td>$112K-$133K (Glassdoor est.)</td>\n",
       "      <td>WHO WE LOOK FOR\\n\\nAn SEI Consultant is a mast...</td>\n",
       "      <td>4.6</td>\n",
       "      <td>SEI\\n4.6</td>\n",
       "      <td>Atlanta, GA</td>\n",
       "      <td>Cincinnati, OH</td>\n",
       "      <td>201 to 500 employees</td>\n",
       "      <td>1992</td>\n",
       "      <td>Company - Private</td>\n",
       "      <td>...</td>\n",
       "      <td>0</td>\n",
       "      <td>28</td>\n",
       "      <td>1</td>\n",
       "      <td>0</td>\n",
       "      <td>1</td>\n",
       "      <td>0</td>\n",
       "      <td>na</td>\n",
       "      <td>na</td>\n",
       "      <td>4135</td>\n",
       "      <td>0</td>\n",
       "    </tr>\n",
       "    <tr>\n",
       "      <th>4</th>\n",
       "      <td>Data Analyst</td>\n",
       "      <td>$112K-$133K (Glassdoor est.)</td>\n",
       "      <td>At Make-A-Wish® America, we are more than a gr...</td>\n",
       "      <td>3.6</td>\n",
       "      <td>Make-A-Wish Foundation of America\\n3.6</td>\n",
       "      <td>Phoenix, AZ</td>\n",
       "      <td>Phoenix, AZ</td>\n",
       "      <td>1001 to 5000 employees</td>\n",
       "      <td>1980</td>\n",
       "      <td>Nonprofit Organization</td>\n",
       "      <td>...</td>\n",
       "      <td>1</td>\n",
       "      <td>40</td>\n",
       "      <td>0</td>\n",
       "      <td>0</td>\n",
       "      <td>0</td>\n",
       "      <td>0</td>\n",
       "      <td>data analyst</td>\n",
       "      <td>na</td>\n",
       "      <td>3853</td>\n",
       "      <td>0</td>\n",
       "    </tr>\n",
       "  </tbody>\n",
       "</table>\n",
       "<p>5 rows × 29 columns</p>\n",
       "</div>"
      ],
      "text/plain": [
       "                     Job Title               Salary Estimate  \\\n",
       "0               Data Scientist  $112K-$133K (Glassdoor est.)   \n",
       "1               Data Scientist  $112K-$133K (Glassdoor est.)   \n",
       "2                 Data Analyst  $112K-$133K (Glassdoor est.)   \n",
       "3  Data & Analytics Consultant  $112K-$133K (Glassdoor est.)   \n",
       "4                 Data Analyst  $112K-$133K (Glassdoor est.)   \n",
       "\n",
       "                                     Job Description  Rating  \\\n",
       "0  About Us:\\n\\nLocated in Allen, TX Cytracom is ...     5.0   \n",
       "1  Entefy’s Senior Data Scientist is a highly vis...     4.3   \n",
       "2  Breckenridge Grand Vacations (BGV) is seeking ...     4.6   \n",
       "3  WHO WE LOOK FOR\\n\\nAn SEI Consultant is a mast...     4.6   \n",
       "4  At Make-A-Wish® America, we are more than a gr...     3.6   \n",
       "\n",
       "                             Company Name          Location      Headquarters  \\\n",
       "0                           Cytracom\\n5.0         Allen, TX         Allen, TX   \n",
       "1                             Entefy\\n4.3     Palo Alto, CA     Palo Alto, CA   \n",
       "2       Breckenridge Grand Vacations\\n4.6  Breckenridge, CO  Breckenridge, CO   \n",
       "3                                SEI\\n4.6       Atlanta, GA    Cincinnati, OH   \n",
       "4  Make-A-Wish Foundation of America\\n3.6       Phoenix, AZ       Phoenix, AZ   \n",
       "\n",
       "                     Size  Founded       Type of ownership  ... same_state  \\\n",
       "0       1 to 50 employees     2008       Company - Private  ...          1   \n",
       "1       1 to 50 employees     2012       Company - Private  ...          1   \n",
       "2   501 to 1000 employees     1984       Company - Private  ...          1   \n",
       "3    201 to 500 employees     1992       Company - Private  ...          0   \n",
       "4  1001 to 5000 employees     1980  Nonprofit Organization  ...          1   \n",
       "\n",
       "  Company_age python_req rstudio_req  excel_req  spark_req        job_simp  \\\n",
       "0          12          1           0          0          0  data scientist   \n",
       "1           8          1           0          0          0  data scientist   \n",
       "2          36          1           0          1          0    data analyst   \n",
       "3          28          1           0          1          0              na   \n",
       "4          40          0           0          0          0    data analyst   \n",
       "\n",
       "  seniority desc_length  num_competitors  \n",
       "0        na        2462                3  \n",
       "1        na        1188                0  \n",
       "2        na        5746                0  \n",
       "3        na        4135                0  \n",
       "4        na        3853                0  \n",
       "\n",
       "[5 rows x 29 columns]"
      ]
     },
     "execution_count": 50,
     "metadata": {},
     "output_type": "execute_result"
    }
   ],
   "source": [
    "df.head()"
   ]
  },
  {
   "cell_type": "code",
   "execution_count": 51,
   "metadata": {},
   "outputs": [
    {
     "data": {
      "text/plain": [
       "Index(['Job Title', 'Salary Estimate', 'Job Description', 'Rating',\n",
       "       'Company Name', 'Location', 'Headquarters', 'Size', 'Founded',\n",
       "       'Type of ownership', 'Industry', 'Sector', 'Revenue', 'Competitors',\n",
       "       'min_salary', 'max_salary', 'avg_salary', 'company_txt', 'State',\n",
       "       'same_state', 'Company_age', 'python_req', 'rstudio_req', 'excel_req',\n",
       "       'spark_req', 'job_simp', 'seniority', 'desc_length', 'num_competitors'],\n",
       "      dtype='object')"
      ]
     },
     "execution_count": 51,
     "metadata": {},
     "output_type": "execute_result"
    }
   ],
   "source": [
    "df.columns"
   ]
  },
  {
   "cell_type": "code",
   "execution_count": 52,
   "metadata": {},
   "outputs": [
    {
     "data": {
      "text/plain": [
       "<AxesSubplot:>"
      ]
     },
     "execution_count": 52,
     "metadata": {},
     "output_type": "execute_result"
    },
    {
     "data": {
      "image/png": "[encoded data removed]",
      "text/plain": [
       "<Figure size 432x288 with 1 Axes>"
      ]
     },
     "metadata": {
      "needs_background": "light"
     },
     "output_type": "display_data"
    }
   ],
   "source": [
    "df.Rating.hist()"
   ]
  },
  {
   "cell_type": "code",
   "execution_count": 53,
   "metadata": {},
   "outputs": [
    {
     "data": {
      "text/plain": [
       "<AxesSubplot:>"
      ]
     },
     "execution_count": 53,
     "metadata": {},
     "output_type": "execute_result"
    },
    {
     "data": {
      "image/png": "[encoded data removed]",
      "text/plain": [
       "<Figure size 432x288 with 1 Axes>"
      ]
     },
     "metadata": {
      "needs_background": "light"
     },
     "output_type": "display_data"
    }
   ],
   "source": [
    "df.boxplot('Rating')"
   ]
  },
  {
   "cell_type": "code",
   "execution_count": 54,
   "metadata": {},
   "outputs": [
    {
     "data": {
      "text/plain": [
       "<AxesSubplot:>"
      ]
     },
     "execution_count": 54,
     "metadata": {},
     "output_type": "execute_result"
    },
    {
     "data": {
      "image/png": "[encoded data removed]",
      "text/plain": [
       "<Figure size 432x288 with 1 Axes>"
      ]
     },
     "metadata": {
      "needs_background": "light"
     },
     "output_type": "display_data"
    }
   ],
   "source": [
    "df.avg_salary.hist()"
   ]
  },
  {
   "cell_type": "code",
   "execution_count": 55,
   "metadata": {},
   "outputs": [
    {
     "data": {
      "text/plain": [
       "<AxesSubplot:>"
      ]
     },
     "execution_count": 55,
     "metadata": {},
     "output_type": "execute_result"
    },
    {
     "data": {
      "image/png": "[encoded data removed]",
      "text/plain": [
       "<Figure size 432x288 with 1 Axes>"
      ]
     },
     "metadata": {
      "needs_background": "light"
     },
     "output_type": "display_data"
    }
   ],
   "source": [
    "df.Company_age.hist()"
   ]
  },
  {
   "cell_type": "code",
   "execution_count": 56,
   "metadata": {},
   "outputs": [
    {
     "data": {
      "text/plain": [
       "<AxesSubplot:>"
      ]
     },
     "execution_count": 56,
     "metadata": {},
     "output_type": "execute_result"
    },
    {
     "data": {
      "image/png": "[encoded data removed]",
      "text/plain": [
       "<Figure size 432x288 with 1 Axes>"
      ]
     },
     "metadata": {
      "needs_background": "light"
     },
     "output_type": "display_data"
    }
   ],
   "source": [
    "df.boxplot('avg_salary')"
   ]
  },
  {
   "cell_type": "code",
   "execution_count": 57,
   "metadata": {},
   "outputs": [
    {
     "data": {
      "text/html": [
       "<style  type=\"text/css\" >\n",
       "#T_7f857824_d5b5_11ea_8761_acde48001122row0_col0,#T_7f857824_d5b5_11ea_8761_acde48001122row1_col1,#T_7f857824_d5b5_11ea_8761_acde48001122row2_col2,#T_7f857824_d5b5_11ea_8761_acde48001122row3_col3,#T_7f857824_d5b5_11ea_8761_acde48001122row4_col4{\n",
       "            background-color:  #b40426;\n",
       "            color:  #f1f1f1;\n",
       "        }#T_7f857824_d5b5_11ea_8761_acde48001122row0_col1{\n",
       "            background-color:  #5b7ae5;\n",
       "            color:  #000000;\n",
       "        }#T_7f857824_d5b5_11ea_8761_acde48001122row0_col2,#T_7f857824_d5b5_11ea_8761_acde48001122row1_col0,#T_7f857824_d5b5_11ea_8761_acde48001122row1_col3,#T_7f857824_d5b5_11ea_8761_acde48001122row1_col4,#T_7f857824_d5b5_11ea_8761_acde48001122row3_col1{\n",
       "            background-color:  #3b4cc0;\n",
       "            color:  #f1f1f1;\n",
       "        }#T_7f857824_d5b5_11ea_8761_acde48001122row0_col3{\n",
       "            background-color:  #86a9fc;\n",
       "            color:  #000000;\n",
       "        }#T_7f857824_d5b5_11ea_8761_acde48001122row0_col4{\n",
       "            background-color:  #92b4fe;\n",
       "            color:  #000000;\n",
       "        }#T_7f857824_d5b5_11ea_8761_acde48001122row1_col2{\n",
       "            background-color:  #3f53c6;\n",
       "            color:  #f1f1f1;\n",
       "        }#T_7f857824_d5b5_11ea_8761_acde48001122row2_col0{\n",
       "            background-color:  #4055c8;\n",
       "            color:  #f1f1f1;\n",
       "        }#T_7f857824_d5b5_11ea_8761_acde48001122row2_col1{\n",
       "            background-color:  #6788ee;\n",
       "            color:  #000000;\n",
       "        }#T_7f857824_d5b5_11ea_8761_acde48001122row2_col3,#T_7f857824_d5b5_11ea_8761_acde48001122row3_col4{\n",
       "            background-color:  #6b8df0;\n",
       "            color:  #000000;\n",
       "        }#T_7f857824_d5b5_11ea_8761_acde48001122row2_col4{\n",
       "            background-color:  #5977e3;\n",
       "            color:  #000000;\n",
       "        }#T_7f857824_d5b5_11ea_8761_acde48001122row3_col0{\n",
       "            background-color:  #6687ed;\n",
       "            color:  #000000;\n",
       "        }#T_7f857824_d5b5_11ea_8761_acde48001122row3_col2{\n",
       "            background-color:  #445acc;\n",
       "            color:  #f1f1f1;\n",
       "        }#T_7f857824_d5b5_11ea_8761_acde48001122row4_col0{\n",
       "            background-color:  #8db0fe;\n",
       "            color:  #000000;\n",
       "        }#T_7f857824_d5b5_11ea_8761_acde48001122row4_col1{\n",
       "            background-color:  #5673e0;\n",
       "            color:  #000000;\n",
       "        }#T_7f857824_d5b5_11ea_8761_acde48001122row4_col2{\n",
       "            background-color:  #4c66d6;\n",
       "            color:  #000000;\n",
       "        }#T_7f857824_d5b5_11ea_8761_acde48001122row4_col3{\n",
       "            background-color:  #85a8fc;\n",
       "            color:  #000000;\n",
       "        }</style><table id=\"T_7f857824_d5b5_11ea_8761_acde48001122\" ><thead>    <tr>        <th class=\"blank level0\" ></th>        <th class=\"col_heading level0 col0\" >Company_age</th>        <th class=\"col_heading level0 col1\" >avg_salary</th>        <th class=\"col_heading level0 col2\" >Rating</th>        <th class=\"col_heading level0 col3\" >desc_length</th>        <th class=\"col_heading level0 col4\" >num_competitors</th>    </tr></thead><tbody>\n",
       "                <tr>\n",
       "                        <th id=\"T_7f857824_d5b5_11ea_8761_acde48001122level0_row0\" class=\"row_heading level0 row0\" >Company_age</th>\n",
       "                        <td id=\"T_7f857824_d5b5_11ea_8761_acde48001122row0_col0\" class=\"data row0 col0\" >1.000000</td>\n",
       "                        <td id=\"T_7f857824_d5b5_11ea_8761_acde48001122row0_col1\" class=\"data row0 col1\" >-0.020633</td>\n",
       "                        <td id=\"T_7f857824_d5b5_11ea_8761_acde48001122row0_col2\" class=\"data row0 col2\" >0.002731</td>\n",
       "                        <td id=\"T_7f857824_d5b5_11ea_8761_acde48001122row0_col3\" class=\"data row0 col3\" >0.120236</td>\n",
       "                        <td id=\"T_7f857824_d5b5_11ea_8761_acde48001122row0_col4\" class=\"data row0 col4\" >0.234921</td>\n",
       "            </tr>\n",
       "            <tr>\n",
       "                        <th id=\"T_7f857824_d5b5_11ea_8761_acde48001122level0_row1\" class=\"row_heading level0 row1\" >avg_salary</th>\n",
       "                        <td id=\"T_7f857824_d5b5_11ea_8761_acde48001122row1_col0\" class=\"data row1 col0\" >-0.020633</td>\n",
       "                        <td id=\"T_7f857824_d5b5_11ea_8761_acde48001122row1_col1\" class=\"data row1 col1\" >1.000000</td>\n",
       "                        <td id=\"T_7f857824_d5b5_11ea_8761_acde48001122row1_col2\" class=\"data row1 col2\" >0.018570</td>\n",
       "                        <td id=\"T_7f857824_d5b5_11ea_8761_acde48001122row1_col3\" class=\"data row1 col3\" >-0.143495</td>\n",
       "                        <td id=\"T_7f857824_d5b5_11ea_8761_acde48001122row1_col4\" class=\"data row1 col4\" >-0.040315</td>\n",
       "            </tr>\n",
       "            <tr>\n",
       "                        <th id=\"T_7f857824_d5b5_11ea_8761_acde48001122level0_row2\" class=\"row_heading level0 row2\" >Rating</th>\n",
       "                        <td id=\"T_7f857824_d5b5_11ea_8761_acde48001122row2_col0\" class=\"data row2 col0\" >0.002731</td>\n",
       "                        <td id=\"T_7f857824_d5b5_11ea_8761_acde48001122row2_col1\" class=\"data row2 col1\" >0.018570</td>\n",
       "                        <td id=\"T_7f857824_d5b5_11ea_8761_acde48001122row2_col2\" class=\"data row2 col2\" >1.000000</td>\n",
       "                        <td id=\"T_7f857824_d5b5_11ea_8761_acde48001122row2_col3\" class=\"data row2 col3\" >0.034080</td>\n",
       "                        <td id=\"T_7f857824_d5b5_11ea_8761_acde48001122row2_col4\" class=\"data row2 col4\" >0.063812</td>\n",
       "            </tr>\n",
       "            <tr>\n",
       "                        <th id=\"T_7f857824_d5b5_11ea_8761_acde48001122level0_row3\" class=\"row_heading level0 row3\" >desc_length</th>\n",
       "                        <td id=\"T_7f857824_d5b5_11ea_8761_acde48001122row3_col0\" class=\"data row3 col0\" >0.120236</td>\n",
       "                        <td id=\"T_7f857824_d5b5_11ea_8761_acde48001122row3_col1\" class=\"data row3 col1\" >-0.143495</td>\n",
       "                        <td id=\"T_7f857824_d5b5_11ea_8761_acde48001122row3_col2\" class=\"data row3 col2\" >0.034080</td>\n",
       "                        <td id=\"T_7f857824_d5b5_11ea_8761_acde48001122row3_col3\" class=\"data row3 col3\" >1.000000</td>\n",
       "                        <td id=\"T_7f857824_d5b5_11ea_8761_acde48001122row3_col4\" class=\"data row3 col4\" >0.119908</td>\n",
       "            </tr>\n",
       "            <tr>\n",
       "                        <th id=\"T_7f857824_d5b5_11ea_8761_acde48001122level0_row4\" class=\"row_heading level0 row4\" >num_competitors</th>\n",
       "                        <td id=\"T_7f857824_d5b5_11ea_8761_acde48001122row4_col0\" class=\"data row4 col0\" >0.234921</td>\n",
       "                        <td id=\"T_7f857824_d5b5_11ea_8761_acde48001122row4_col1\" class=\"data row4 col1\" >-0.040315</td>\n",
       "                        <td id=\"T_7f857824_d5b5_11ea_8761_acde48001122row4_col2\" class=\"data row4 col2\" >0.063812</td>\n",
       "                        <td id=\"T_7f857824_d5b5_11ea_8761_acde48001122row4_col3\" class=\"data row4 col3\" >0.119908</td>\n",
       "                        <td id=\"T_7f857824_d5b5_11ea_8761_acde48001122row4_col4\" class=\"data row4 col4\" >1.000000</td>\n",
       "            </tr>\n",
       "    </tbody></table>"
      ],
      "text/plain": [
       "<pandas.io.formats.style.Styler at 0x7fa18ea312e8>"
      ]
     },
     "execution_count": 57,
     "metadata": {},
     "output_type": "execute_result"
    }
   ],
   "source": [
    "corr=df[['Company_age', 'avg_salary', 'Rating','desc_length','num_competitors']].corr()\n",
    "corr.style.background_gradient(cmap='coolwarm')"
   ]
  },
  {
   "cell_type": "code",
   "execution_count": 58,
   "metadata": {},
   "outputs": [
    {
     "data": {
      "text/plain": [
       "Index(['Job Title', 'Salary Estimate', 'Job Description', 'Rating',\n",
       "       'Company Name', 'Location', 'Headquarters', 'Size', 'Founded',\n",
       "       'Type of ownership', 'Industry', 'Sector', 'Revenue', 'Competitors',\n",
       "       'min_salary', 'max_salary', 'avg_salary', 'company_txt', 'State',\n",
       "       'same_state', 'Company_age', 'python_req', 'rstudio_req', 'excel_req',\n",
       "       'spark_req', 'job_simp', 'seniority', 'desc_length', 'num_competitors'],\n",
       "      dtype='object')"
      ]
     },
     "execution_count": 58,
     "metadata": {},
     "output_type": "execute_result"
    }
   ],
   "source": [
    "df.columns"
   ]
  },
  {
   "cell_type": "code",
   "execution_count": 59,
   "metadata": {},
   "outputs": [],
   "source": [
    "#categorical data\n",
    "df_cat=df[['Location', 'Headquarters', 'Size',  'Type of ownership', 'Industry', 'Sector', 'Revenue','company_txt', 'State','same_state','python_req', 'rstudio_req', 'excel_req',\n",
    "       'spark_req', 'job_simp', 'seniority']]"
   ]
  },
  {
   "cell_type": "code",
   "execution_count": 60,
   "metadata": {},
   "outputs": [
    {
     "name": "stdout",
     "output_type": "stream",
     "text": [
      "Graph for Location column: Total = 99\n"
     ]
    },
    {
     "data": {
      "image/png": "[encoded data removed]",
      "text/plain": [
       "<Figure size 432x288 with 1 Axes>"
      ]
     },
     "metadata": {
      "needs_background": "light"
     },
     "output_type": "display_data"
    },
    {
     "name": "stdout",
     "output_type": "stream",
     "text": [
      "Graph for Headquarters column: Total = 107\n"
     ]
    },
    {
     "data": {
      "image/png": "[encoded data removed]",
      "text/plain": [
       "<Figure size 432x288 with 1 Axes>"
      ]
     },
     "metadata": {
      "needs_background": "light"
     },
     "output_type": "display_data"
    },
    {
     "name": "stdout",
     "output_type": "stream",
     "text": [
      "Graph for Size column: Total = 9\n"
     ]
    },
    {
     "data": {
      "image/png": "[encoded data removed]",
      "text/plain": [
       "<Figure size 432x288 with 1 Axes>"
      ]
     },
     "metadata": {
      "needs_background": "light"
     },
     "output_type": "display_data"
    },
    {
     "name": "stdout",
     "output_type": "stream",
     "text": [
      "Graph for Type of ownership column: Total = 10\n"
     ]
    },
    {
     "data": {
      "image/png": "[encoded data removed]",
      "text/plain": [
       "<Figure size 432x288 with 1 Axes>"
      ]
     },
     "metadata": {
      "needs_background": "light"
     },
     "output_type": "display_data"
    },
    {
     "name": "stdout",
     "output_type": "stream",
     "text": [
      "Graph for Industry column: Total = 44\n"
     ]
    },
    {
     "data": {
      "image/png": "[encoded data removed]",
      "text/plain": [
       "<Figure size 432x288 with 1 Axes>"
      ]
     },
     "metadata": {
      "needs_background": "light"
     },
     "output_type": "display_data"
    },
    {
     "name": "stdout",
     "output_type": "stream",
     "text": [
      "Graph for Sector column: Total = 23\n"
     ]
    },
    {
     "data": {
      "image/png": "[encoded data removed]",
      "text/plain": [
       "<Figure size 432x288 with 1 Axes>"
      ]
     },
     "metadata": {
      "needs_background": "light"
     },
     "output_type": "display_data"
    },
    {
     "name": "stdout",
     "output_type": "stream",
     "text": [
      "Graph for Revenue column: Total = 14\n"
     ]
    },
    {
     "data": {
      "image/png": "[encoded data removed]",
      "text/plain": [
       "<Figure size 432x288 with 1 Axes>"
      ]
     },
     "metadata": {
      "needs_background": "light"
     },
     "output_type": "display_data"
    },
    {
     "name": "stdout",
     "output_type": "stream",
     "text": [
      "Graph for company_txt column: Total = 173\n"
     ]
    },
    {
     "data": {
      "image/png": "[encoded data removed]",
      "text/plain": [
       "<Figure size 432x288 with 1 Axes>"
      ]
     },
     "metadata": {
      "needs_background": "light"
     },
     "output_type": "display_data"
    },
    {
     "name": "stdout",
     "output_type": "stream",
     "text": [
      "Graph for State column: Total = 37\n"
     ]
    },
    {
     "data": {
      "image/png": "[encoded data removed]",
      "text/plain": [
       "<Figure size 432x288 with 1 Axes>"
      ]
     },
     "metadata": {
      "needs_background": "light"
     },
     "output_type": "display_data"
    },
    {
     "name": "stdout",
     "output_type": "stream",
     "text": [
      "Graph for same_state column: Total = 2\n"
     ]
    },
    {
     "data": {
      "image/png": "[encoded data removed]",
      "text/plain": [
       "<Figure size 432x288 with 1 Axes>"
      ]
     },
     "metadata": {
      "needs_background": "light"
     },
     "output_type": "display_data"
    },
    {
     "name": "stdout",
     "output_type": "stream",
     "text": [
      "Graph for python_req column: Total = 2\n"
     ]
    },
    {
     "data": {
      "image/png": "[encoded data removed]",
      "text/plain": [
       "<Figure size 432x288 with 1 Axes>"
      ]
     },
     "metadata": {
      "needs_background": "light"
     },
     "output_type": "display_data"
    },
    {
     "name": "stdout",
     "output_type": "stream",
     "text": [
      "Graph for rstudio_req column: Total = 2\n"
     ]
    },
    {
     "data": {
      "image/png": "[encoded data removed]",
      "text/plain": [
       "<Figure size 432x288 with 1 Axes>"
      ]
     },
     "metadata": {
      "needs_background": "light"
     },
     "output_type": "display_data"
    },
    {
     "name": "stdout",
     "output_type": "stream",
     "text": [
      "Graph for excel_req column: Total = 2\n"
     ]
    },
    {
     "data": {
      "image/png": "[encoded data removed]",
      "text/plain": [
       "<Figure size 432x288 with 1 Axes>"
      ]
     },
     "metadata": {
      "needs_background": "light"
     },
     "output_type": "display_data"
    },
    {
     "name": "stdout",
     "output_type": "stream",
     "text": [
      "Graph for spark_req column: Total = 2\n"
     ]
    },
    {
     "data": {
      "image/png": "[encoded data removed]",
      "text/plain": [
       "<Figure size 432x288 with 1 Axes>"
      ]
     },
     "metadata": {
      "needs_background": "light"
     },
     "output_type": "display_data"
    },
    {
     "name": "stdout",
     "output_type": "stream",
     "text": [
      "Graph for job_simp column: Total = 6\n"
     ]
    },
    {
     "data": {
      "image/png": "[encoded data removed]",
      "text/plain": [
       "<Figure size 432x288 with 1 Axes>"
      ]
     },
     "metadata": {
      "needs_background": "light"
     },
     "output_type": "display_data"
    },
    {
     "name": "stdout",
     "output_type": "stream",
     "text": [
      "Graph for seniority column: Total = 3\n"
     ]
    },
    {
     "data": {
      "image/png": "[encoded data removed]",
      "text/plain": [
       "<Figure size 432x288 with 1 Axes>"
      ]
     },
     "metadata": {
      "needs_background": "light"
     },
     "output_type": "display_data"
    }
   ],
   "source": [
    "for cat in df_cat.columns:\n",
    "    cat_num=df_cat[cat].value_counts()\n",
    "    chart=sns.barplot(x=cat_num.index, y=cat_num)\n",
    "    print('Graph for {} column: Total = {}'.format(cat, len(cat_num)))\n",
    "    chart.set_xticklabels(chart.get_xticklabels(), rotation=90)\n",
    "    plt.show()"
   ]
  },
  {
   "cell_type": "code",
   "execution_count": 61,
   "metadata": {},
   "outputs": [
    {
     "data": {
      "text/plain": [
       "Index(['Location', 'Headquarters', 'Size', 'Type of ownership', 'Industry',\n",
       "       'Sector', 'Revenue', 'company_txt', 'State', 'same_state', 'python_req',\n",
       "       'rstudio_req', 'excel_req', 'spark_req', 'job_simp', 'seniority'],\n",
       "      dtype='object')"
      ]
     },
     "execution_count": 61,
     "metadata": {},
     "output_type": "execute_result"
    }
   ],
   "source": [
    "df_cat.columns"
   ]
  },
  {
   "cell_type": "code",
   "execution_count": 62,
   "metadata": {},
   "outputs": [
    {
     "name": "stdout",
     "output_type": "stream",
     "text": [
      "Graph for Location column: Total = 20\n"
     ]
    },
    {
     "data": {
      "image/png": "[encoded data removed]",
      "text/plain": [
       "<Figure size 432x288 with 1 Axes>"
      ]
     },
     "metadata": {
      "needs_background": "light"
     },
     "output_type": "display_data"
    },
    {
     "name": "stdout",
     "output_type": "stream",
     "text": [
      "Graph for Headquarters column: Total = 20\n"
     ]
    },
    {
     "data": {
      "image/png": "[encoded data removed]",
      "text/plain": [
       "<Figure size 432x288 with 1 Axes>"
      ]
     },
     "metadata": {
      "needs_background": "light"
     },
     "output_type": "display_data"
    },
    {
     "name": "stdout",
     "output_type": "stream",
     "text": [
      "Graph for company_txt column: Total = 20\n"
     ]
    },
    {
     "data": {
      "image/png": "[encoded data removed]",
      "text/plain": [
       "<Figure size 432x288 with 1 Axes>"
      ]
     },
     "metadata": {
      "needs_background": "light"
     },
     "output_type": "display_data"
    }
   ],
   "source": [
    "for cat in df_cat[['Location', 'Headquarters','company_txt']]:\n",
    "    cat_num=df_cat[cat].value_counts()[:20]\n",
    "    chart=sns.barplot(x=cat_num.index, y=cat_num)\n",
    "    print('Graph for {} column: Total = {}'.format(cat, len(cat_num)))\n",
    "    chart.set_xticklabels(chart.get_xticklabels(), rotation=90)\n",
    "    plt.show()"
   ]
  },
  {
   "cell_type": "code",
   "execution_count": 63,
   "metadata": {},
   "outputs": [
    {
     "data": {
      "text/plain": [
       "Index(['Job Title', 'Salary Estimate', 'Job Description', 'Rating',\n",
       "       'Company Name', 'Location', 'Headquarters', 'Size', 'Founded',\n",
       "       'Type of ownership', 'Industry', 'Sector', 'Revenue', 'Competitors',\n",
       "       'min_salary', 'max_salary', 'avg_salary', 'company_txt', 'State',\n",
       "       'same_state', 'Company_age', 'python_req', 'rstudio_req', 'excel_req',\n",
       "       'spark_req', 'job_simp', 'seniority', 'desc_length', 'num_competitors'],\n",
       "      dtype='object')"
      ]
     },
     "execution_count": 63,
     "metadata": {},
     "output_type": "execute_result"
    }
   ],
   "source": [
    "df.columns"
   ]
  },
  {
   "cell_type": "code",
   "execution_count": 64,
   "metadata": {},
   "outputs": [
    {
     "data": {
      "text/html": [
       "<div>\n",
       "<style scoped>\n",
       "    .dataframe tbody tr th:only-of-type {\n",
       "        vertical-align: middle;\n",
       "    }\n",
       "\n",
       "    .dataframe tbody tr th {\n",
       "        vertical-align: top;\n",
       "    }\n",
       "\n",
       "    .dataframe thead th {\n",
       "        text-align: right;\n",
       "    }\n",
       "</style>\n",
       "<table border=\"1\" class=\"dataframe\">\n",
       "  <thead>\n",
       "    <tr style=\"text-align: right;\">\n",
       "      <th></th>\n",
       "      <th></th>\n",
       "      <th>avg_salary</th>\n",
       "    </tr>\n",
       "    <tr>\n",
       "      <th>job_simp</th>\n",
       "      <th>seniority</th>\n",
       "      <th></th>\n",
       "    </tr>\n",
       "  </thead>\n",
       "  <tbody>\n",
       "    <tr>\n",
       "      <th rowspan=\"3\" valign=\"top\">data analyst</th>\n",
       "      <th>junior</th>\n",
       "      <td>122.500000</td>\n",
       "    </tr>\n",
       "    <tr>\n",
       "      <th>na</th>\n",
       "      <td>107.387097</td>\n",
       "    </tr>\n",
       "    <tr>\n",
       "      <th>senior</th>\n",
       "      <td>89.500000</td>\n",
       "    </tr>\n",
       "    <tr>\n",
       "      <th rowspan=\"2\" valign=\"top\">data engineer</th>\n",
       "      <th>na</th>\n",
       "      <td>103.691176</td>\n",
       "    </tr>\n",
       "    <tr>\n",
       "      <th>senior</th>\n",
       "      <td>106.333333</td>\n",
       "    </tr>\n",
       "    <tr>\n",
       "      <th rowspan=\"2\" valign=\"top\">data scientist</th>\n",
       "      <th>na</th>\n",
       "      <td>105.781250</td>\n",
       "    </tr>\n",
       "    <tr>\n",
       "      <th>senior</th>\n",
       "      <td>101.734375</td>\n",
       "    </tr>\n",
       "    <tr>\n",
       "      <th>director</th>\n",
       "      <th>na</th>\n",
       "      <td>128.500000</td>\n",
       "    </tr>\n",
       "    <tr>\n",
       "      <th>manager</th>\n",
       "      <th>na</th>\n",
       "      <td>103.500000</td>\n",
       "    </tr>\n",
       "    <tr>\n",
       "      <th rowspan=\"2\" valign=\"top\">na</th>\n",
       "      <th>na</th>\n",
       "      <td>101.475000</td>\n",
       "    </tr>\n",
       "    <tr>\n",
       "      <th>senior</th>\n",
       "      <td>99.083333</td>\n",
       "    </tr>\n",
       "  </tbody>\n",
       "</table>\n",
       "</div>"
      ],
      "text/plain": [
       "                          avg_salary\n",
       "job_simp       seniority            \n",
       "data analyst   junior     122.500000\n",
       "               na         107.387097\n",
       "               senior      89.500000\n",
       "data engineer  na         103.691176\n",
       "               senior     106.333333\n",
       "data scientist na         105.781250\n",
       "               senior     101.734375\n",
       "director       na         128.500000\n",
       "manager        na         103.500000\n",
       "na             na         101.475000\n",
       "               senior      99.083333"
      ]
     },
     "execution_count": 64,
     "metadata": {},
     "output_type": "execute_result"
    }
   ],
   "source": [
    "pd.pivot_table(df, index= ['job_simp','seniority'], values='avg_salary')"
   ]
  },
  {
   "cell_type": "code",
   "execution_count": 65,
   "metadata": {},
   "outputs": [
    {
     "data": {
      "text/html": [
       "<div>\n",
       "<style scoped>\n",
       "    .dataframe tbody tr th:only-of-type {\n",
       "        vertical-align: middle;\n",
       "    }\n",
       "\n",
       "    .dataframe tbody tr th {\n",
       "        vertical-align: top;\n",
       "    }\n",
       "\n",
       "    .dataframe thead th {\n",
       "        text-align: right;\n",
       "    }\n",
       "</style>\n",
       "<table border=\"1\" class=\"dataframe\">\n",
       "  <thead>\n",
       "    <tr style=\"text-align: right;\">\n",
       "      <th></th>\n",
       "      <th></th>\n",
       "      <th>avg_salary</th>\n",
       "    </tr>\n",
       "    <tr>\n",
       "      <th>State</th>\n",
       "      <th>job_simp</th>\n",
       "      <th></th>\n",
       "    </tr>\n",
       "  </thead>\n",
       "  <tbody>\n",
       "    <tr>\n",
       "      <th rowspan=\"4\" valign=\"top\">WI</th>\n",
       "      <th>na</th>\n",
       "      <td>89.500000</td>\n",
       "    </tr>\n",
       "    <tr>\n",
       "      <th>manager</th>\n",
       "      <td>107.500000</td>\n",
       "    </tr>\n",
       "    <tr>\n",
       "      <th>data scientist</th>\n",
       "      <td>106.666667</td>\n",
       "    </tr>\n",
       "    <tr>\n",
       "      <th>data engineer</th>\n",
       "      <td>109.500000</td>\n",
       "    </tr>\n",
       "    <tr>\n",
       "      <th rowspan=\"2\" valign=\"top\">WA</th>\n",
       "      <th>data scientist</th>\n",
       "      <td>109.250000</td>\n",
       "    </tr>\n",
       "    <tr>\n",
       "      <th>data analyst</th>\n",
       "      <td>107.500000</td>\n",
       "    </tr>\n",
       "    <tr>\n",
       "      <th rowspan=\"2\" valign=\"top\">VA</th>\n",
       "      <th>data scientist</th>\n",
       "      <td>107.409091</td>\n",
       "    </tr>\n",
       "    <tr>\n",
       "      <th>data engineer</th>\n",
       "      <td>107.500000</td>\n",
       "    </tr>\n",
       "    <tr>\n",
       "      <th rowspan=\"3\" valign=\"top\">UT</th>\n",
       "      <th>data engineer</th>\n",
       "      <td>96.500000</td>\n",
       "    </tr>\n",
       "    <tr>\n",
       "      <th>data analyst</th>\n",
       "      <td>122.500000</td>\n",
       "    </tr>\n",
       "    <tr>\n",
       "      <th>data scientist</th>\n",
       "      <td>93.833333</td>\n",
       "    </tr>\n",
       "    <tr>\n",
       "      <th rowspan=\"2\" valign=\"top\">USA</th>\n",
       "      <th>data scientist</th>\n",
       "      <td>89.500000</td>\n",
       "    </tr>\n",
       "    <tr>\n",
       "      <th>data engineer</th>\n",
       "      <td>96.500000</td>\n",
       "    </tr>\n",
       "    <tr>\n",
       "      <th rowspan=\"4\" valign=\"top\">TX</th>\n",
       "      <th>na</th>\n",
       "      <td>110.333333</td>\n",
       "    </tr>\n",
       "    <tr>\n",
       "      <th>data scientist</th>\n",
       "      <td>118.500000</td>\n",
       "    </tr>\n",
       "    <tr>\n",
       "      <th>data engineer</th>\n",
       "      <td>106.571429</td>\n",
       "    </tr>\n",
       "    <tr>\n",
       "      <th>data analyst</th>\n",
       "      <td>109.500000</td>\n",
       "    </tr>\n",
       "    <tr>\n",
       "      <th rowspan=\"3\" valign=\"top\">Remote</th>\n",
       "      <th>data analyst</th>\n",
       "      <td>102.000000</td>\n",
       "    </tr>\n",
       "    <tr>\n",
       "      <th>data engineer</th>\n",
       "      <td>122.500000</td>\n",
       "    </tr>\n",
       "    <tr>\n",
       "      <th>data scientist</th>\n",
       "      <td>115.833333</td>\n",
       "    </tr>\n",
       "    <tr>\n",
       "      <th>RI</th>\n",
       "      <th>data analyst</th>\n",
       "      <td>84.500000</td>\n",
       "    </tr>\n",
       "    <tr>\n",
       "      <th rowspan=\"2\" valign=\"top\">PA</th>\n",
       "      <th>data scientist</th>\n",
       "      <td>96.500000</td>\n",
       "    </tr>\n",
       "    <tr>\n",
       "      <th>data analyst</th>\n",
       "      <td>89.500000</td>\n",
       "    </tr>\n",
       "    <tr>\n",
       "      <th>OR</th>\n",
       "      <th>data scientist</th>\n",
       "      <td>107.500000</td>\n",
       "    </tr>\n",
       "    <tr>\n",
       "      <th>OK</th>\n",
       "      <th>data engineer</th>\n",
       "      <td>89.500000</td>\n",
       "    </tr>\n",
       "    <tr>\n",
       "      <th rowspan=\"3\" valign=\"top\">OH</th>\n",
       "      <th>data analyst</th>\n",
       "      <td>122.500000</td>\n",
       "    </tr>\n",
       "    <tr>\n",
       "      <th>data engineer</th>\n",
       "      <td>128.500000</td>\n",
       "    </tr>\n",
       "    <tr>\n",
       "      <th>data scientist</th>\n",
       "      <td>99.700000</td>\n",
       "    </tr>\n",
       "    <tr>\n",
       "      <th rowspan=\"5\" valign=\"top\">NY</th>\n",
       "      <th>manager</th>\n",
       "      <td>84.500000</td>\n",
       "    </tr>\n",
       "    <tr>\n",
       "      <th>director</th>\n",
       "      <td>128.500000</td>\n",
       "    </tr>\n",
       "    <tr>\n",
       "      <th>data scientist</th>\n",
       "      <td>105.400000</td>\n",
       "    </tr>\n",
       "    <tr>\n",
       "      <th>data engineer</th>\n",
       "      <td>106.833333</td>\n",
       "    </tr>\n",
       "    <tr>\n",
       "      <th>data analyst</th>\n",
       "      <td>100.166667</td>\n",
       "    </tr>\n",
       "    <tr>\n",
       "      <th>NV</th>\n",
       "      <th>data analyst</th>\n",
       "      <td>128.500000</td>\n",
       "    </tr>\n",
       "    <tr>\n",
       "      <th>NJ</th>\n",
       "      <th>data scientist</th>\n",
       "      <td>104.666667</td>\n",
       "    </tr>\n",
       "    <tr>\n",
       "      <th>NE</th>\n",
       "      <th>na</th>\n",
       "      <td>106.500000</td>\n",
       "    </tr>\n",
       "    <tr>\n",
       "      <th>ND</th>\n",
       "      <th>data analyst</th>\n",
       "      <td>128.500000</td>\n",
       "    </tr>\n",
       "    <tr>\n",
       "      <th rowspan=\"2\" valign=\"top\">NC</th>\n",
       "      <th>na</th>\n",
       "      <td>84.500000</td>\n",
       "    </tr>\n",
       "    <tr>\n",
       "      <th>data analyst</th>\n",
       "      <td>107.500000</td>\n",
       "    </tr>\n",
       "    <tr>\n",
       "      <th>MS</th>\n",
       "      <th>na</th>\n",
       "      <td>84.500000</td>\n",
       "    </tr>\n",
       "    <tr>\n",
       "      <th>MO</th>\n",
       "      <th>data scientist</th>\n",
       "      <td>88.500000</td>\n",
       "    </tr>\n",
       "    <tr>\n",
       "      <th rowspan=\"3\" valign=\"top\">MN</th>\n",
       "      <th>na</th>\n",
       "      <td>104.250000</td>\n",
       "    </tr>\n",
       "    <tr>\n",
       "      <th>data scientist</th>\n",
       "      <td>96.500000</td>\n",
       "    </tr>\n",
       "    <tr>\n",
       "      <th>data analyst</th>\n",
       "      <td>107.500000</td>\n",
       "    </tr>\n",
       "    <tr>\n",
       "      <th>MI</th>\n",
       "      <th>data analyst</th>\n",
       "      <td>107.500000</td>\n",
       "    </tr>\n",
       "    <tr>\n",
       "      <th rowspan=\"5\" valign=\"top\">MD</th>\n",
       "      <th>data scientist</th>\n",
       "      <td>101.250000</td>\n",
       "    </tr>\n",
       "    <tr>\n",
       "      <th>data analyst</th>\n",
       "      <td>128.500000</td>\n",
       "    </tr>\n",
       "    <tr>\n",
       "      <th>data engineer</th>\n",
       "      <td>95.250000</td>\n",
       "    </tr>\n",
       "    <tr>\n",
       "      <th>manager</th>\n",
       "      <td>89.500000</td>\n",
       "    </tr>\n",
       "    <tr>\n",
       "      <th>na</th>\n",
       "      <td>122.500000</td>\n",
       "    </tr>\n",
       "    <tr>\n",
       "      <th rowspan=\"3\" valign=\"top\">MA</th>\n",
       "      <th>na</th>\n",
       "      <td>102.500000</td>\n",
       "    </tr>\n",
       "    <tr>\n",
       "      <th>data scientist</th>\n",
       "      <td>109.000000</td>\n",
       "    </tr>\n",
       "    <tr>\n",
       "      <th>data engineer</th>\n",
       "      <td>89.500000</td>\n",
       "    </tr>\n",
       "    <tr>\n",
       "      <th>LA</th>\n",
       "      <th>manager</th>\n",
       "      <td>128.500000</td>\n",
       "    </tr>\n",
       "    <tr>\n",
       "      <th>KS</th>\n",
       "      <th>data analyst</th>\n",
       "      <td>122.500000</td>\n",
       "    </tr>\n",
       "    <tr>\n",
       "      <th rowspan=\"2\" valign=\"top\">IN</th>\n",
       "      <th>data scientist</th>\n",
       "      <td>84.500000</td>\n",
       "    </tr>\n",
       "    <tr>\n",
       "      <th>data analyst</th>\n",
       "      <td>103.500000</td>\n",
       "    </tr>\n",
       "    <tr>\n",
       "      <th rowspan=\"2\" valign=\"top\">IL</th>\n",
       "      <th>data engineer</th>\n",
       "      <td>84.500000</td>\n",
       "    </tr>\n",
       "    <tr>\n",
       "      <th>data scientist</th>\n",
       "      <td>104.500000</td>\n",
       "    </tr>\n",
       "    <tr>\n",
       "      <th rowspan=\"2\" valign=\"top\">GA</th>\n",
       "      <th>na</th>\n",
       "      <td>122.500000</td>\n",
       "    </tr>\n",
       "    <tr>\n",
       "      <th>data scientist</th>\n",
       "      <td>93.000000</td>\n",
       "    </tr>\n",
       "    <tr>\n",
       "      <th>FL</th>\n",
       "      <th>na</th>\n",
       "      <td>89.500000</td>\n",
       "    </tr>\n",
       "    <tr>\n",
       "      <th>DE</th>\n",
       "      <th>data engineer</th>\n",
       "      <td>128.500000</td>\n",
       "    </tr>\n",
       "    <tr>\n",
       "      <th rowspan=\"3\" valign=\"top\">DC</th>\n",
       "      <th>na</th>\n",
       "      <td>101.000000</td>\n",
       "    </tr>\n",
       "    <tr>\n",
       "      <th>data scientist</th>\n",
       "      <td>112.500000</td>\n",
       "    </tr>\n",
       "    <tr>\n",
       "      <th>data analyst</th>\n",
       "      <td>89.500000</td>\n",
       "    </tr>\n",
       "    <tr>\n",
       "      <th>CT</th>\n",
       "      <th>data analyst</th>\n",
       "      <td>84.500000</td>\n",
       "    </tr>\n",
       "    <tr>\n",
       "      <th rowspan=\"3\" valign=\"top\">CO</th>\n",
       "      <th>data scientist</th>\n",
       "      <td>128.500000</td>\n",
       "    </tr>\n",
       "    <tr>\n",
       "      <th>data engineer</th>\n",
       "      <td>84.500000</td>\n",
       "    </tr>\n",
       "    <tr>\n",
       "      <th>data analyst</th>\n",
       "      <td>109.833333</td>\n",
       "    </tr>\n",
       "    <tr>\n",
       "      <th rowspan=\"5\" valign=\"top\">CA</th>\n",
       "      <th>data analyst</th>\n",
       "      <td>98.600000</td>\n",
       "    </tr>\n",
       "    <tr>\n",
       "      <th>na</th>\n",
       "      <td>98.187500</td>\n",
       "    </tr>\n",
       "    <tr>\n",
       "      <th>manager</th>\n",
       "      <td>107.500000</td>\n",
       "    </tr>\n",
       "    <tr>\n",
       "      <th>data scientist</th>\n",
       "      <td>100.416667</td>\n",
       "    </tr>\n",
       "    <tr>\n",
       "      <th>data engineer</th>\n",
       "      <td>103.500000</td>\n",
       "    </tr>\n",
       "    <tr>\n",
       "      <th>AZ</th>\n",
       "      <th>data analyst</th>\n",
       "      <td>126.500000</td>\n",
       "    </tr>\n",
       "    <tr>\n",
       "      <th>AL</th>\n",
       "      <th>na</th>\n",
       "      <td>84.500000</td>\n",
       "    </tr>\n",
       "  </tbody>\n",
       "</table>\n",
       "</div>"
      ],
      "text/plain": [
       "                        avg_salary\n",
       "State   job_simp                  \n",
       " WI     na               89.500000\n",
       "        manager         107.500000\n",
       "        data scientist  106.666667\n",
       "        data engineer   109.500000\n",
       " WA     data scientist  109.250000\n",
       "        data analyst    107.500000\n",
       " VA     data scientist  107.409091\n",
       "        data engineer   107.500000\n",
       " UT     data engineer    96.500000\n",
       "        data analyst    122.500000\n",
       "        data scientist   93.833333\n",
       " USA    data scientist   89.500000\n",
       "        data engineer    96.500000\n",
       " TX     na              110.333333\n",
       "        data scientist  118.500000\n",
       "        data engineer   106.571429\n",
       "        data analyst    109.500000\n",
       " Remote data analyst    102.000000\n",
       "        data engineer   122.500000\n",
       "        data scientist  115.833333\n",
       " RI     data analyst     84.500000\n",
       " PA     data scientist   96.500000\n",
       "        data analyst     89.500000\n",
       " OR     data scientist  107.500000\n",
       " OK     data engineer    89.500000\n",
       " OH     data analyst    122.500000\n",
       "        data engineer   128.500000\n",
       "        data scientist   99.700000\n",
       " NY     manager          84.500000\n",
       "        director        128.500000\n",
       "        data scientist  105.400000\n",
       "        data engineer   106.833333\n",
       "        data analyst    100.166667\n",
       " NV     data analyst    128.500000\n",
       " NJ     data scientist  104.666667\n",
       " NE     na              106.500000\n",
       " ND     data analyst    128.500000\n",
       " NC     na               84.500000\n",
       "        data analyst    107.500000\n",
       " MS     na               84.500000\n",
       " MO     data scientist   88.500000\n",
       " MN     na              104.250000\n",
       "        data scientist   96.500000\n",
       "        data analyst    107.500000\n",
       " MI     data analyst    107.500000\n",
       " MD     data scientist  101.250000\n",
       "        data analyst    128.500000\n",
       "        data engineer    95.250000\n",
       "        manager          89.500000\n",
       "        na              122.500000\n",
       " MA     na              102.500000\n",
       "        data scientist  109.000000\n",
       "        data engineer    89.500000\n",
       " LA     manager         128.500000\n",
       " KS     data analyst    122.500000\n",
       " IN     data scientist   84.500000\n",
       "        data analyst    103.500000\n",
       " IL     data engineer    84.500000\n",
       "        data scientist  104.500000\n",
       " GA     na              122.500000\n",
       "        data scientist   93.000000\n",
       " FL     na               89.500000\n",
       " DE     data engineer   128.500000\n",
       " DC     na              101.000000\n",
       "        data scientist  112.500000\n",
       "        data analyst     89.500000\n",
       " CT     data analyst     84.500000\n",
       " CO     data scientist  128.500000\n",
       "        data engineer    84.500000\n",
       "        data analyst    109.833333\n",
       " CA     data analyst     98.600000\n",
       "        na               98.187500\n",
       "        manager         107.500000\n",
       "        data scientist  100.416667\n",
       "        data engineer   103.500000\n",
       " AZ     data analyst    126.500000\n",
       " AL     na               84.500000"
      ]
     },
     "execution_count": 65,
     "metadata": {},
     "output_type": "execute_result"
    }
   ],
   "source": [
    "pd.set_option('display.max_rows', None)\n",
    "pd.pivot_table(df, index= ['State','job_simp'], values='avg_salary').sort_values('State', ascending=False)"
   ]
  },
  {
   "cell_type": "code",
   "execution_count": 66,
   "metadata": {},
   "outputs": [
    {
     "data": {
      "text/html": [
       "<div>\n",
       "<style scoped>\n",
       "    .dataframe tbody tr th:only-of-type {\n",
       "        vertical-align: middle;\n",
       "    }\n",
       "\n",
       "    .dataframe tbody tr th {\n",
       "        vertical-align: top;\n",
       "    }\n",
       "\n",
       "    .dataframe thead th {\n",
       "        text-align: right;\n",
       "    }\n",
       "</style>\n",
       "<table border=\"1\" class=\"dataframe\">\n",
       "  <thead>\n",
       "    <tr style=\"text-align: right;\">\n",
       "      <th></th>\n",
       "      <th>avg_salary</th>\n",
       "    </tr>\n",
       "    <tr>\n",
       "      <th>State</th>\n",
       "      <th></th>\n",
       "    </tr>\n",
       "  </thead>\n",
       "  <tbody>\n",
       "    <tr>\n",
       "      <th>CO</th>\n",
       "      <td>128.500000</td>\n",
       "    </tr>\n",
       "    <tr>\n",
       "      <th>TX</th>\n",
       "      <td>118.500000</td>\n",
       "    </tr>\n",
       "    <tr>\n",
       "      <th>Remote</th>\n",
       "      <td>115.833333</td>\n",
       "    </tr>\n",
       "    <tr>\n",
       "      <th>DC</th>\n",
       "      <td>112.500000</td>\n",
       "    </tr>\n",
       "    <tr>\n",
       "      <th>WA</th>\n",
       "      <td>109.250000</td>\n",
       "    </tr>\n",
       "    <tr>\n",
       "      <th>MA</th>\n",
       "      <td>109.000000</td>\n",
       "    </tr>\n",
       "    <tr>\n",
       "      <th>OR</th>\n",
       "      <td>107.500000</td>\n",
       "    </tr>\n",
       "    <tr>\n",
       "      <th>VA</th>\n",
       "      <td>107.409091</td>\n",
       "    </tr>\n",
       "    <tr>\n",
       "      <th>WI</th>\n",
       "      <td>106.666667</td>\n",
       "    </tr>\n",
       "    <tr>\n",
       "      <th>NY</th>\n",
       "      <td>105.400000</td>\n",
       "    </tr>\n",
       "    <tr>\n",
       "      <th>NJ</th>\n",
       "      <td>104.666667</td>\n",
       "    </tr>\n",
       "    <tr>\n",
       "      <th>IL</th>\n",
       "      <td>104.500000</td>\n",
       "    </tr>\n",
       "    <tr>\n",
       "      <th>MD</th>\n",
       "      <td>101.250000</td>\n",
       "    </tr>\n",
       "    <tr>\n",
       "      <th>CA</th>\n",
       "      <td>100.416667</td>\n",
       "    </tr>\n",
       "    <tr>\n",
       "      <th>OH</th>\n",
       "      <td>99.700000</td>\n",
       "    </tr>\n",
       "    <tr>\n",
       "      <th>MN</th>\n",
       "      <td>96.500000</td>\n",
       "    </tr>\n",
       "    <tr>\n",
       "      <th>PA</th>\n",
       "      <td>96.500000</td>\n",
       "    </tr>\n",
       "    <tr>\n",
       "      <th>UT</th>\n",
       "      <td>93.833333</td>\n",
       "    </tr>\n",
       "    <tr>\n",
       "      <th>GA</th>\n",
       "      <td>93.000000</td>\n",
       "    </tr>\n",
       "    <tr>\n",
       "      <th>USA</th>\n",
       "      <td>89.500000</td>\n",
       "    </tr>\n",
       "    <tr>\n",
       "      <th>MO</th>\n",
       "      <td>88.500000</td>\n",
       "    </tr>\n",
       "    <tr>\n",
       "      <th>IN</th>\n",
       "      <td>84.500000</td>\n",
       "    </tr>\n",
       "  </tbody>\n",
       "</table>\n",
       "</div>"
      ],
      "text/plain": [
       "         avg_salary\n",
       "State              \n",
       " CO      128.500000\n",
       " TX      118.500000\n",
       " Remote  115.833333\n",
       " DC      112.500000\n",
       " WA      109.250000\n",
       " MA      109.000000\n",
       " OR      107.500000\n",
       " VA      107.409091\n",
       " WI      106.666667\n",
       " NY      105.400000\n",
       " NJ      104.666667\n",
       " IL      104.500000\n",
       " MD      101.250000\n",
       " CA      100.416667\n",
       " OH       99.700000\n",
       " MN       96.500000\n",
       " PA       96.500000\n",
       " UT       93.833333\n",
       " GA       93.000000\n",
       " USA      89.500000\n",
       " MO       88.500000\n",
       " IN       84.500000"
      ]
     },
     "execution_count": 66,
     "metadata": {},
     "output_type": "execute_result"
    }
   ],
   "source": [
    "pd.pivot_table(df[df.job_simp =='data scientist'], index= 'State', values='avg_salary').sort_values('avg_salary', ascending=False)"
   ]
  },
  {
   "cell_type": "code",
   "execution_count": 68,
   "metadata": {},
   "outputs": [
    {
     "data": {
      "text/plain": [
       "Index(['Job Title', 'Salary Estimate', 'Job Description', 'Rating',\n",
       "       'Company Name', 'Location', 'Headquarters', 'Size', 'Founded',\n",
       "       'Type of ownership', 'Industry', 'Sector', 'Revenue', 'Competitors',\n",
       "       'min_salary', 'max_salary', 'avg_salary', 'company_txt', 'State',\n",
       "       'same_state', 'Company_age', 'python_req', 'rstudio_req', 'excel_req',\n",
       "       'spark_req', 'job_simp', 'seniority', 'desc_length', 'num_competitors'],\n",
       "      dtype='object')"
      ]
     },
     "execution_count": 68,
     "metadata": {},
     "output_type": "execute_result"
    }
   ],
   "source": [
    "df.columns"
   ]
  },
  {
   "cell_type": "code",
   "execution_count": 84,
   "metadata": {},
   "outputs": [
    {
     "name": "stdout",
     "output_type": "stream",
     "text": [
      "Rating\n",
      "        avg_salary\n",
      "Rating            \n",
      " 2.2    128.500000\n",
      " 2.7    128.500000\n",
      " 1.9    122.500000\n",
      " 5.0    116.875000\n",
      " 4.9    112.500000\n",
      " 3.9    112.000000\n",
      " 3.0    111.071429\n",
      " 2.6    110.833333\n",
      " 4.4    110.500000\n",
      " 4.6    109.833333\n",
      " 4.2    109.833333\n",
      " 3.1    109.333333\n",
      " 3.2    107.800000\n",
      " 2.5    107.500000\n",
      " 4.5    106.681818\n",
      " 2.8    105.333333\n",
      " 3.4    103.750000\n",
      " 3.8    103.083333\n",
      " 3.3    102.868421\n",
      " 4.3    101.611111\n",
      " 3.6    101.454545\n",
      "-1.0    100.750000\n",
      " 3.7     99.318182\n",
      " 4.8     99.250000\n",
      " 2.4     98.750000\n",
      " 4.1     98.136364\n",
      " 4.0     96.500000\n",
      " 3.5     95.437500\n",
      " 2.9     94.166667\n",
      " 4.7     92.000000\n",
      "Industry\n",
      "                                         avg_salary\n",
      "Industry                                           \n",
      "Logistics & Supply Chain                 128.500000\n",
      "Express Delivery Services                128.500000\n",
      "Construction                             125.500000\n",
      "Venture Capital & Private Equity         124.500000\n",
      "Membership Organizations                 122.500000\n",
      "K-12 Education                           122.500000\n",
      "Hotels, Motels, & Resorts                122.500000\n",
      "Lending                                  118.750000\n",
      "Health, Beauty, & Fitness                115.000000\n",
      "Staffing & Outsourcing                   112.250000\n",
      "Advertising & Marketing                  111.928571\n",
      "Social Assistance                        111.750000\n",
      "Energy                                   111.500000\n",
      "Video Games                              110.833333\n",
      "Insurance Carriers                       108.400000\n",
      "Accounting                               107.500000\n",
      "Wholesale                                107.500000\n",
      "Chemical Manufacturing                   107.500000\n",
      "Enterprise Software & Network Solutions  106.891304\n",
      "IT Services                              106.477273\n",
      "Health Care Services & Hospitals         106.150000\n",
      "Biotech & Pharmaceuticals                104.866667\n",
      "Research & Development                   104.833333\n",
      "Consulting                               103.600000\n",
      "-1                                       101.071429\n",
      "Financial Transaction Processing          98.833333\n",
      "Internet                                  98.722222\n",
      "Computer Hardware & Software              98.545455\n",
      "Architectural & Engineering Services      97.166667\n",
      "Consumer Products Manufacturing           96.500000\n",
      "Performing Arts                           96.500000\n",
      "Telecommunications Services               96.500000\n",
      "Banks & Credit Unions                     95.416667\n",
      "Aerospace & Defense                       94.666667\n",
      "Investment Banking & Asset Management     93.500000\n",
      "Food Production                           90.500000\n",
      "Brokerage Services                        89.500000\n",
      "Food & Beverage Manufacturing             89.500000\n",
      "Sporting Goods Stores                     89.500000\n",
      "TV Broadcast & Cable Networks             89.500000\n",
      "Utilities                                 89.500000\n",
      "Federal Agencies                          88.500000\n",
      "Insurance Agencies & Brokerages           84.500000\n",
      "Financial Analytics & Research            84.500000\n",
      "Sector\n",
      "                                    avg_salary\n",
      "Sector                                        \n",
      "Transportation & Logistics          128.500000\n",
      "Construction, Repair & Maintenance  125.500000\n",
      "Travel & Tourism                    122.500000\n",
      "Education                           122.500000\n",
      "Consumer Services                   115.000000\n",
      "Non-Profit                          111.750000\n",
      "Accounting & Legal                  107.500000\n",
      "Business Services                   106.843750\n",
      "Health Care                         106.150000\n",
      "Oil, Gas, Energy & Utilities        106.000000\n",
      "Media                               105.500000\n",
      "Biotech & Pharmaceuticals           104.866667\n",
      "Insurance                           104.416667\n",
      "Information Technology              104.207692\n",
      "Finance                             102.977273\n",
      "-1                                  101.071429\n",
      "Arts, Entertainment & Recreation     96.500000\n",
      "Telecommunications                   96.500000\n",
      "Manufacturing                        95.750000\n",
      "Aerospace & Defense                  94.666667\n",
      "Agriculture & Forestry               90.500000\n",
      "Retail                               89.500000\n",
      "Government                           88.500000\n",
      "Revenue\n",
      "                                  avg_salary\n",
      "Revenue                                     \n",
      "Less than $1 million (USD)        112.250000\n",
      "$5 to $10 million (USD)           108.375000\n",
      "Unknown / Non-Applicable          106.771429\n",
      "$500 million to $1 billion (USD)  106.088235\n",
      "-1                                106.000000\n",
      "$10 to $25 million (USD)          103.576923\n",
      "$100 to $500 million (USD)        103.214286\n",
      "$10+ billion (USD)                102.766667\n",
      "$50 to $100 million (USD)         102.125000\n",
      "$1 to $5 million (USD)            100.833333\n",
      "$1 to $2 billion (USD)            100.666667\n",
      "$2 to $5 billion (USD)            100.555556\n",
      "$25 to $50 million (USD)          100.500000\n",
      "$5 to $10 billion (USD)            96.500000\n",
      "python_req\n",
      "            avg_salary\n",
      "python_req            \n",
      "0           105.069231\n",
      "1           104.174074\n",
      "rstudio_req\n",
      "             avg_salary\n",
      "rstudio_req            \n",
      "1            106.500000\n",
      "0            104.444444\n",
      "excel_req\n",
      "           avg_salary\n",
      "excel_req            \n",
      "0          105.139175\n",
      "1          103.830097\n",
      "spark_req\n",
      "           avg_salary\n",
      "spark_req            \n",
      "0          104.493590\n",
      "1          104.363636\n",
      "num_competitors\n",
      "                 avg_salary\n",
      "num_competitors            \n",
      "2                105.291667\n",
      "0                104.980000\n",
      "3                103.620690\n",
      "1                100.125000\n",
      "4                 96.500000\n"
     ]
    }
   ],
   "source": [
    "df_piviots=df[['Rating','Industry', 'Sector', 'Revenue','python_req', 'rstudio_req', 'excel_req',\n",
    "       'spark_req', 'num_competitors', 'avg_salary' ]] \n",
    "for i in df_piviots.columns[:-1]: #excluding avg_salary\n",
    "    print(i)\n",
    "    print(pd.pivot_table(df_piviots, index=i, values='avg_salary').sort_values('avg_salary', ascending=False))"
   ]
  },
  {
   "cell_type": "code",
   "execution_count": null,
   "metadata": {},
   "outputs": [],
   "source": []
  },
  {
   "cell_type": "code",
   "execution_count": 88,
   "metadata": {},
   "outputs": [
    {
     "data": {
      "text/html": [
       "<div>\n",
       "<style scoped>\n",
       "    .dataframe tbody tr th:only-of-type {\n",
       "        vertical-align: middle;\n",
       "    }\n",
       "\n",
       "    .dataframe tbody tr th {\n",
       "        vertical-align: top;\n",
       "    }\n",
       "\n",
       "    .dataframe thead th {\n",
       "        text-align: right;\n",
       "    }\n",
       "</style>\n",
       "<table border=\"1\" class=\"dataframe\">\n",
       "  <thead>\n",
       "    <tr style=\"text-align: right;\">\n",
       "      <th>python_req</th>\n",
       "      <th>0</th>\n",
       "      <th>1</th>\n",
       "    </tr>\n",
       "    <tr>\n",
       "      <th>Revenue</th>\n",
       "      <th></th>\n",
       "      <th></th>\n",
       "    </tr>\n",
       "  </thead>\n",
       "  <tbody>\n",
       "    <tr>\n",
       "      <th>$1 to $2 billion (USD)</th>\n",
       "      <td>5.0</td>\n",
       "      <td>10.0</td>\n",
       "    </tr>\n",
       "    <tr>\n",
       "      <th>$1 to $5 million (USD)</th>\n",
       "      <td>NaN</td>\n",
       "      <td>3.0</td>\n",
       "    </tr>\n",
       "    <tr>\n",
       "      <th>$10 to $25 million (USD)</th>\n",
       "      <td>3.0</td>\n",
       "      <td>10.0</td>\n",
       "    </tr>\n",
       "    <tr>\n",
       "      <th>$10+ billion (USD)</th>\n",
       "      <td>3.0</td>\n",
       "      <td>12.0</td>\n",
       "    </tr>\n",
       "    <tr>\n",
       "      <th>$100 to $500 million (USD)</th>\n",
       "      <td>11.0</td>\n",
       "      <td>17.0</td>\n",
       "    </tr>\n",
       "    <tr>\n",
       "      <th>$2 to $5 billion (USD)</th>\n",
       "      <td>2.0</td>\n",
       "      <td>7.0</td>\n",
       "    </tr>\n",
       "    <tr>\n",
       "      <th>$25 to $50 million (USD)</th>\n",
       "      <td>2.0</td>\n",
       "      <td>5.0</td>\n",
       "    </tr>\n",
       "    <tr>\n",
       "      <th>$5 to $10 billion (USD)</th>\n",
       "      <td>1.0</td>\n",
       "      <td>NaN</td>\n",
       "    </tr>\n",
       "    <tr>\n",
       "      <th>$5 to $10 million (USD)</th>\n",
       "      <td>1.0</td>\n",
       "      <td>3.0</td>\n",
       "    </tr>\n",
       "    <tr>\n",
       "      <th>$50 to $100 million (USD)</th>\n",
       "      <td>5.0</td>\n",
       "      <td>7.0</td>\n",
       "    </tr>\n",
       "    <tr>\n",
       "      <th>$500 million to $1 billion (USD)</th>\n",
       "      <td>5.0</td>\n",
       "      <td>12.0</td>\n",
       "    </tr>\n",
       "    <tr>\n",
       "      <th>-1</th>\n",
       "      <td>2.0</td>\n",
       "      <td>NaN</td>\n",
       "    </tr>\n",
       "    <tr>\n",
       "      <th>Less than $1 million (USD)</th>\n",
       "      <td>3.0</td>\n",
       "      <td>1.0</td>\n",
       "    </tr>\n",
       "    <tr>\n",
       "      <th>Unknown / Non-Applicable</th>\n",
       "      <td>22.0</td>\n",
       "      <td>48.0</td>\n",
       "    </tr>\n",
       "  </tbody>\n",
       "</table>\n",
       "</div>"
      ],
      "text/plain": [
       "python_req                           0     1\n",
       "Revenue                                     \n",
       "$1 to $2 billion (USD)             5.0  10.0\n",
       "$1 to $5 million (USD)             NaN   3.0\n",
       "$10 to $25 million (USD)           3.0  10.0\n",
       "$10+ billion (USD)                 3.0  12.0\n",
       "$100 to $500 million (USD)        11.0  17.0\n",
       "$2 to $5 billion (USD)             2.0   7.0\n",
       "$25 to $50 million (USD)           2.0   5.0\n",
       "$5 to $10 billion (USD)            1.0   NaN\n",
       "$5 to $10 million (USD)            1.0   3.0\n",
       "$50 to $100 million (USD)          5.0   7.0\n",
       "$500 million to $1 billion (USD)   5.0  12.0\n",
       "-1                                 2.0   NaN\n",
       "Less than $1 million (USD)         3.0   1.0\n",
       "Unknown / Non-Applicable          22.0  48.0"
      ]
     },
     "execution_count": 88,
     "metadata": {},
     "output_type": "execute_result"
    }
   ],
   "source": [
    "pd.pivot_table(df_piviots, index='Revenue', columns='python_req', values='avg_salary',aggfunc='count')"
   ]
  },
  {
   "cell_type": "code",
   "execution_count": null,
   "metadata": {},
   "outputs": [],
   "source": []
  }
 ],
 "metadata": {
  "kernelspec": {
   "display_name": "Python 3",
   "language": "python",
   "name": "python3"
  },
  "language_info": {
   "codemirror_mode": {
    "name": "ipython",
    "version": 3
   },
   "file_extension": ".py",
   "mimetype": "text/x-python",
   "name": "python",
   "nbconvert_exporter": "python",
   "pygments_lexer": "ipython3",
   "version": "3.7.3"
  }
 },
 "nbformat": 4,
 "nbformat_minor": 2
}
