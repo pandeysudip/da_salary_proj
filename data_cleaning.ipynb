{
 "cells": [
  {
   "cell_type": "code",
   "execution_count": 1,
   "metadata": {},
   "outputs": [
    {
     "name": "stderr",
     "output_type": "stream",
     "text": [
      "/Users/sudippandey/anaconda3/lib/python3.7/site-packages/statsmodels/tools/_testing.py:19: FutureWarning: pandas.util.testing is deprecated. Use the functions in the public API at pandas.testing instead.\n",
      "  import pandas.util.testing as tm\n"
     ]
    }
   ],
   "source": [
    "import pandas as pd\n",
    "import numpy as np\n",
    "import seaborn as sns\n",
    "import math\n",
    "import sympy as sym\n",
    "import re\n",
    "import matplotlib.pyplot as plt\n",
    "%matplotlib inline"
   ]
  },
  {
   "cell_type": "code",
   "execution_count": 2,
   "metadata": {},
   "outputs": [
    {
     "data": {
      "text/plain": [
       "'/Users/sudippandey/Documents/ds_salary_proj'"
      ]
     },
     "execution_count": 2,
     "metadata": {},
     "output_type": "execute_result"
    }
   ],
   "source": [
    "#%magic\n",
    "%pwd"
   ]
  },
  {
   "cell_type": "code",
   "execution_count": 3,
   "metadata": {},
   "outputs": [
    {
     "name": "stdout",
     "output_type": "stream",
     "text": [
      "How_to_open_website.py  \u001b[31mchromedriver\u001b[m\u001b[m*           glassdoor_jobs.csv\r\n",
      "README.md               data_cleaning.ipynb     glassdoor_scapper.py\r\n",
      "\u001b[34m__pycache__\u001b[m\u001b[m/            data_collection.py\r\n"
     ]
    }
   ],
   "source": [
    "%ls"
   ]
  },
  {
   "cell_type": "code",
   "execution_count": 4,
   "metadata": {},
   "outputs": [],
   "source": [
    "#reading csv file\n",
    "df=pd.read_csv('glassdoor_jobs.csv')"
   ]
  },
  {
   "cell_type": "code",
   "execution_count": 74,
   "metadata": {
    "scrolled": true
   },
   "outputs": [
    {
     "data": {
      "text/html": [
       "<div>\n",
       "<style scoped>\n",
       "    .dataframe tbody tr th:only-of-type {\n",
       "        vertical-align: middle;\n",
       "    }\n",
       "\n",
       "    .dataframe tbody tr th {\n",
       "        vertical-align: top;\n",
       "    }\n",
       "\n",
       "    .dataframe thead th {\n",
       "        text-align: right;\n",
       "    }\n",
       "</style>\n",
       "<table border=\"1\" class=\"dataframe\">\n",
       "  <thead>\n",
       "    <tr style=\"text-align: right;\">\n",
       "      <th></th>\n",
       "      <th>Job Title</th>\n",
       "      <th>Salary Estimate</th>\n",
       "      <th>Job Description</th>\n",
       "      <th>Rating</th>\n",
       "      <th>Company Name</th>\n",
       "      <th>Location</th>\n",
       "      <th>Headquarters</th>\n",
       "      <th>Size</th>\n",
       "      <th>Founded</th>\n",
       "      <th>Type of ownership</th>\n",
       "      <th>...</th>\n",
       "      <th>max_salary</th>\n",
       "      <th>avg_salary</th>\n",
       "      <th>company_txt</th>\n",
       "      <th>State</th>\n",
       "      <th>same_state</th>\n",
       "      <th>Company_age</th>\n",
       "      <th>python_req</th>\n",
       "      <th>rstudio_req</th>\n",
       "      <th>excel_req</th>\n",
       "      <th>spark_req</th>\n",
       "    </tr>\n",
       "  </thead>\n",
       "  <tbody>\n",
       "    <tr>\n",
       "      <th>0</th>\n",
       "      <td>Data Scientist</td>\n",
       "      <td>$112K-$133K (Glassdoor est.)</td>\n",
       "      <td>About Us:\\n\\nLocated in Allen, TX Cytracom is ...</td>\n",
       "      <td>5.0</td>\n",
       "      <td>Cytracom\\n5.0</td>\n",
       "      <td>Allen, TX</td>\n",
       "      <td>Allen, TX</td>\n",
       "      <td>1 to 50 employees</td>\n",
       "      <td>2008</td>\n",
       "      <td>Company - Private</td>\n",
       "      <td>...</td>\n",
       "      <td>133</td>\n",
       "      <td>122.5</td>\n",
       "      <td>Cytracom</td>\n",
       "      <td>TX</td>\n",
       "      <td>1</td>\n",
       "      <td>12</td>\n",
       "      <td>1</td>\n",
       "      <td>0</td>\n",
       "      <td>0</td>\n",
       "      <td>0</td>\n",
       "    </tr>\n",
       "    <tr>\n",
       "      <th>1</th>\n",
       "      <td>Data Scientist</td>\n",
       "      <td>$112K-$133K (Glassdoor est.)</td>\n",
       "      <td>Entefy’s Senior Data Scientist is a highly vis...</td>\n",
       "      <td>4.3</td>\n",
       "      <td>Entefy\\n4.3</td>\n",
       "      <td>Palo Alto, CA</td>\n",
       "      <td>Palo Alto, CA</td>\n",
       "      <td>1 to 50 employees</td>\n",
       "      <td>2012</td>\n",
       "      <td>Company - Private</td>\n",
       "      <td>...</td>\n",
       "      <td>133</td>\n",
       "      <td>122.5</td>\n",
       "      <td>Entefy</td>\n",
       "      <td>CA</td>\n",
       "      <td>1</td>\n",
       "      <td>8</td>\n",
       "      <td>1</td>\n",
       "      <td>0</td>\n",
       "      <td>0</td>\n",
       "      <td>0</td>\n",
       "    </tr>\n",
       "    <tr>\n",
       "      <th>2</th>\n",
       "      <td>Data Analyst</td>\n",
       "      <td>$112K-$133K (Glassdoor est.)</td>\n",
       "      <td>Breckenridge Grand Vacations (BGV) is seeking ...</td>\n",
       "      <td>4.6</td>\n",
       "      <td>Breckenridge Grand Vacations\\n4.6</td>\n",
       "      <td>Breckenridge, CO</td>\n",
       "      <td>Breckenridge, CO</td>\n",
       "      <td>501 to 1000 employees</td>\n",
       "      <td>1984</td>\n",
       "      <td>Company - Private</td>\n",
       "      <td>...</td>\n",
       "      <td>133</td>\n",
       "      <td>122.5</td>\n",
       "      <td>Breckenridge Grand Vacations</td>\n",
       "      <td>CO</td>\n",
       "      <td>1</td>\n",
       "      <td>36</td>\n",
       "      <td>1</td>\n",
       "      <td>0</td>\n",
       "      <td>1</td>\n",
       "      <td>0</td>\n",
       "    </tr>\n",
       "    <tr>\n",
       "      <th>3</th>\n",
       "      <td>Data &amp; Analytics Consultant</td>\n",
       "      <td>$112K-$133K (Glassdoor est.)</td>\n",
       "      <td>WHO WE LOOK FOR\\n\\nAn SEI Consultant is a mast...</td>\n",
       "      <td>4.6</td>\n",
       "      <td>SEI\\n4.6</td>\n",
       "      <td>Atlanta, GA</td>\n",
       "      <td>Cincinnati, OH</td>\n",
       "      <td>201 to 500 employees</td>\n",
       "      <td>1992</td>\n",
       "      <td>Company - Private</td>\n",
       "      <td>...</td>\n",
       "      <td>133</td>\n",
       "      <td>122.5</td>\n",
       "      <td>SEI</td>\n",
       "      <td>GA</td>\n",
       "      <td>0</td>\n",
       "      <td>28</td>\n",
       "      <td>1</td>\n",
       "      <td>0</td>\n",
       "      <td>1</td>\n",
       "      <td>0</td>\n",
       "    </tr>\n",
       "    <tr>\n",
       "      <th>4</th>\n",
       "      <td>Data Analyst</td>\n",
       "      <td>$112K-$133K (Glassdoor est.)</td>\n",
       "      <td>At Make-A-Wish® America, we are more than a gr...</td>\n",
       "      <td>3.6</td>\n",
       "      <td>Make-A-Wish Foundation of America\\n3.6</td>\n",
       "      <td>Phoenix, AZ</td>\n",
       "      <td>Phoenix, AZ</td>\n",
       "      <td>1001 to 5000 employees</td>\n",
       "      <td>1980</td>\n",
       "      <td>Nonprofit Organization</td>\n",
       "      <td>...</td>\n",
       "      <td>133</td>\n",
       "      <td>122.5</td>\n",
       "      <td>Make-A-Wish Foundation of America</td>\n",
       "      <td>AZ</td>\n",
       "      <td>1</td>\n",
       "      <td>40</td>\n",
       "      <td>0</td>\n",
       "      <td>0</td>\n",
       "      <td>0</td>\n",
       "      <td>0</td>\n",
       "    </tr>\n",
       "    <tr>\n",
       "      <th>5</th>\n",
       "      <td>Market Data Analyst</td>\n",
       "      <td>$112K-$133K (Glassdoor est.)</td>\n",
       "      <td>A bit about us:\\n\\nWe’re on a mission to chang...</td>\n",
       "      <td>4.3</td>\n",
       "      <td>Devoted Health\\n4.3</td>\n",
       "      <td>Houston, TX</td>\n",
       "      <td>Waltham, MA</td>\n",
       "      <td>201 to 500 employees</td>\n",
       "      <td>2017</td>\n",
       "      <td>Company - Private</td>\n",
       "      <td>...</td>\n",
       "      <td>133</td>\n",
       "      <td>122.5</td>\n",
       "      <td>Devoted Health</td>\n",
       "      <td>TX</td>\n",
       "      <td>0</td>\n",
       "      <td>3</td>\n",
       "      <td>0</td>\n",
       "      <td>0</td>\n",
       "      <td>1</td>\n",
       "      <td>0</td>\n",
       "    </tr>\n",
       "    <tr>\n",
       "      <th>6</th>\n",
       "      <td>Senior Data Scientist</td>\n",
       "      <td>$112K-$133K (Glassdoor est.)</td>\n",
       "      <td>GEICO’s Data Science team uses predictive anal...</td>\n",
       "      <td>3.3</td>\n",
       "      <td>GEICO\\n3.3</td>\n",
       "      <td>Chevy Chase, MD</td>\n",
       "      <td>Washington, DC</td>\n",
       "      <td>10000+ employees</td>\n",
       "      <td>1936</td>\n",
       "      <td>Subsidiary or Business Segment</td>\n",
       "      <td>...</td>\n",
       "      <td>133</td>\n",
       "      <td>122.5</td>\n",
       "      <td>GEICO</td>\n",
       "      <td>MD</td>\n",
       "      <td>0</td>\n",
       "      <td>84</td>\n",
       "      <td>1</td>\n",
       "      <td>0</td>\n",
       "      <td>1</td>\n",
       "      <td>1</td>\n",
       "    </tr>\n",
       "    <tr>\n",
       "      <th>7</th>\n",
       "      <td>Data Scientist</td>\n",
       "      <td>$112K-$133K (Glassdoor est.)</td>\n",
       "      <td>As a Data Scientist, you will have the unique ...</td>\n",
       "      <td>3.3</td>\n",
       "      <td>NT Concepts\\n3.3</td>\n",
       "      <td>Chantilly, VA</td>\n",
       "      <td>Vienna, VA</td>\n",
       "      <td>501 to 1000 employees</td>\n",
       "      <td>1998</td>\n",
       "      <td>Company - Private</td>\n",
       "      <td>...</td>\n",
       "      <td>133</td>\n",
       "      <td>122.5</td>\n",
       "      <td>NT Concepts</td>\n",
       "      <td>VA</td>\n",
       "      <td>0</td>\n",
       "      <td>22</td>\n",
       "      <td>0</td>\n",
       "      <td>0</td>\n",
       "      <td>0</td>\n",
       "      <td>0</td>\n",
       "    </tr>\n",
       "    <tr>\n",
       "      <th>8</th>\n",
       "      <td>Machine Learning Engineer</td>\n",
       "      <td>$112K-$133K (Glassdoor est.)</td>\n",
       "      <td>CircleUp harnesses the power of machine learni...</td>\n",
       "      <td>4.5</td>\n",
       "      <td>CircleUp\\n4.5</td>\n",
       "      <td>San Francisco, CA</td>\n",
       "      <td>San Francisco, CA</td>\n",
       "      <td>51 to 200 employees</td>\n",
       "      <td>2012</td>\n",
       "      <td>Company - Private</td>\n",
       "      <td>...</td>\n",
       "      <td>133</td>\n",
       "      <td>122.5</td>\n",
       "      <td>CircleUp</td>\n",
       "      <td>CA</td>\n",
       "      <td>1</td>\n",
       "      <td>8</td>\n",
       "      <td>0</td>\n",
       "      <td>0</td>\n",
       "      <td>1</td>\n",
       "      <td>0</td>\n",
       "    </tr>\n",
       "    <tr>\n",
       "      <th>9</th>\n",
       "      <td>Data Engineer</td>\n",
       "      <td>$112K-$133K (Glassdoor est.)</td>\n",
       "      <td>U.S. citizenship is required for this position...</td>\n",
       "      <td>3.0</td>\n",
       "      <td>WPS Health Solutions\\n3.0</td>\n",
       "      <td>Madison, WI</td>\n",
       "      <td>Monona, WI</td>\n",
       "      <td>1001 to 5000 employees</td>\n",
       "      <td>1946</td>\n",
       "      <td>Company - Private</td>\n",
       "      <td>...</td>\n",
       "      <td>133</td>\n",
       "      <td>122.5</td>\n",
       "      <td>WPS Health Solutions</td>\n",
       "      <td>WI</td>\n",
       "      <td>0</td>\n",
       "      <td>74</td>\n",
       "      <td>1</td>\n",
       "      <td>0</td>\n",
       "      <td>1</td>\n",
       "      <td>0</td>\n",
       "    </tr>\n",
       "    <tr>\n",
       "      <th>10</th>\n",
       "      <td>Data Scientist (Palo Alto, CA or Remote US)</td>\n",
       "      <td>$112K-$133K (Glassdoor est.)</td>\n",
       "      <td>The Opportunity\\n\\nEversight is the recognized...</td>\n",
       "      <td>4.2</td>\n",
       "      <td>Eversight\\n4.2</td>\n",
       "      <td>Remote</td>\n",
       "      <td>Palo Alto, CA</td>\n",
       "      <td>51 to 200 employees</td>\n",
       "      <td>2013</td>\n",
       "      <td>Company - Private</td>\n",
       "      <td>...</td>\n",
       "      <td>133</td>\n",
       "      <td>122.5</td>\n",
       "      <td>Eversight</td>\n",
       "      <td>Remote</td>\n",
       "      <td>0</td>\n",
       "      <td>7</td>\n",
       "      <td>1</td>\n",
       "      <td>0</td>\n",
       "      <td>0</td>\n",
       "      <td>0</td>\n",
       "    </tr>\n",
       "    <tr>\n",
       "      <th>11</th>\n",
       "      <td>Junior Business Intelligence Analyst</td>\n",
       "      <td>$112K-$133K (Glassdoor est.)</td>\n",
       "      <td>Junior Business Intelligence Analyst\\nMWE is s...</td>\n",
       "      <td>-1.0</td>\n",
       "      <td>Midwest Equipment Sales, LLC</td>\n",
       "      <td>Columbus, OH</td>\n",
       "      <td>-1</td>\n",
       "      <td>-1</td>\n",
       "      <td>-1</td>\n",
       "      <td>-1</td>\n",
       "      <td>...</td>\n",
       "      <td>133</td>\n",
       "      <td>122.5</td>\n",
       "      <td>Midwest Equipment Sales, LLC</td>\n",
       "      <td>OH</td>\n",
       "      <td>0</td>\n",
       "      <td>-1</td>\n",
       "      <td>0</td>\n",
       "      <td>0</td>\n",
       "      <td>0</td>\n",
       "      <td>0</td>\n",
       "    </tr>\n",
       "    <tr>\n",
       "      <th>12</th>\n",
       "      <td>Data Scientist, Health Economics &amp; Advanced An...</td>\n",
       "      <td>$112K-$133K (Glassdoor est.)</td>\n",
       "      <td>Overview\\n\\n\\nAvalere Health is seeking a Data...</td>\n",
       "      <td>3.2</td>\n",
       "      <td>Avalere Health\\n3.2</td>\n",
       "      <td>Washington, DC</td>\n",
       "      <td>Washington, DC</td>\n",
       "      <td>201 to 500 employees</td>\n",
       "      <td>2000</td>\n",
       "      <td>Company - Public</td>\n",
       "      <td>...</td>\n",
       "      <td>133</td>\n",
       "      <td>122.5</td>\n",
       "      <td>Avalere Health</td>\n",
       "      <td>DC</td>\n",
       "      <td>1</td>\n",
       "      <td>20</td>\n",
       "      <td>1</td>\n",
       "      <td>0</td>\n",
       "      <td>1</td>\n",
       "      <td>0</td>\n",
       "    </tr>\n",
       "    <tr>\n",
       "      <th>13</th>\n",
       "      <td>Data Scientist, Product Analytics</td>\n",
       "      <td>$112K-$133K (Glassdoor est.)</td>\n",
       "      <td>At Noom, we use scientifically proven methods ...</td>\n",
       "      <td>4.5</td>\n",
       "      <td>Noom US\\n4.5</td>\n",
       "      <td>New York, NY</td>\n",
       "      <td>New York, NY</td>\n",
       "      <td>1001 to 5000 employees</td>\n",
       "      <td>2008</td>\n",
       "      <td>Company - Private</td>\n",
       "      <td>...</td>\n",
       "      <td>133</td>\n",
       "      <td>122.5</td>\n",
       "      <td>Noom US</td>\n",
       "      <td>NY</td>\n",
       "      <td>1</td>\n",
       "      <td>12</td>\n",
       "      <td>1</td>\n",
       "      <td>0</td>\n",
       "      <td>1</td>\n",
       "      <td>0</td>\n",
       "    </tr>\n",
       "    <tr>\n",
       "      <th>14</th>\n",
       "      <td>Data Scientist</td>\n",
       "      <td>$112K-$133K (Glassdoor est.)</td>\n",
       "      <td>Why We Work at Dun &amp; Bradstreet\\n\\n\\nWe are at...</td>\n",
       "      <td>3.0</td>\n",
       "      <td>Dun &amp; Bradstreet\\n3.0</td>\n",
       "      <td>Austin, TX</td>\n",
       "      <td>Short Hills, NJ</td>\n",
       "      <td>1001 to 5000 employees</td>\n",
       "      <td>1841</td>\n",
       "      <td>Company - Public</td>\n",
       "      <td>...</td>\n",
       "      <td>133</td>\n",
       "      <td>122.5</td>\n",
       "      <td>Dun &amp; Bradstreet</td>\n",
       "      <td>TX</td>\n",
       "      <td>0</td>\n",
       "      <td>179</td>\n",
       "      <td>1</td>\n",
       "      <td>0</td>\n",
       "      <td>0</td>\n",
       "      <td>0</td>\n",
       "    </tr>\n",
       "    <tr>\n",
       "      <th>15</th>\n",
       "      <td>Data Analyst (Informatica)</td>\n",
       "      <td>$112K-$133K (Glassdoor est.)</td>\n",
       "      <td>Location: Carmel, Indiana, Eagan, Minnesota, o...</td>\n",
       "      <td>3.2</td>\n",
       "      <td>MISO\\n3.2</td>\n",
       "      <td>Carmel, IN</td>\n",
       "      <td>Carmel, IN</td>\n",
       "      <td>501 to 1000 employees</td>\n",
       "      <td>1998</td>\n",
       "      <td>Nonprofit Organization</td>\n",
       "      <td>...</td>\n",
       "      <td>133</td>\n",
       "      <td>122.5</td>\n",
       "      <td>MISO</td>\n",
       "      <td>IN</td>\n",
       "      <td>1</td>\n",
       "      <td>22</td>\n",
       "      <td>0</td>\n",
       "      <td>0</td>\n",
       "      <td>0</td>\n",
       "      <td>0</td>\n",
       "    </tr>\n",
       "    <tr>\n",
       "      <th>16</th>\n",
       "      <td>Senior Data Scientist</td>\n",
       "      <td>$112K-$133K (Glassdoor est.)</td>\n",
       "      <td>NanoMosaic LLC, located in Woburn, Massachuset...</td>\n",
       "      <td>-1.0</td>\n",
       "      <td>NanoMosaic</td>\n",
       "      <td>Woburn, MA</td>\n",
       "      <td>Woburn, MA</td>\n",
       "      <td>Unknown</td>\n",
       "      <td>-1</td>\n",
       "      <td>Unknown</td>\n",
       "      <td>...</td>\n",
       "      <td>133</td>\n",
       "      <td>122.5</td>\n",
       "      <td>NanoMosaic</td>\n",
       "      <td>MA</td>\n",
       "      <td>1</td>\n",
       "      <td>-1</td>\n",
       "      <td>1</td>\n",
       "      <td>0</td>\n",
       "      <td>1</td>\n",
       "      <td>0</td>\n",
       "    </tr>\n",
       "    <tr>\n",
       "      <th>17</th>\n",
       "      <td>Data Scientist</td>\n",
       "      <td>$112K-$133K (Glassdoor est.)</td>\n",
       "      <td>Data Scientist\\nAffinity Solutions / Marketing...</td>\n",
       "      <td>3.0</td>\n",
       "      <td>Affinity Solutions\\n3.0</td>\n",
       "      <td>New York, NY</td>\n",
       "      <td>New York, NY</td>\n",
       "      <td>51 to 200 employees</td>\n",
       "      <td>1998</td>\n",
       "      <td>Company - Private</td>\n",
       "      <td>...</td>\n",
       "      <td>133</td>\n",
       "      <td>122.5</td>\n",
       "      <td>Affinity Solutions</td>\n",
       "      <td>NY</td>\n",
       "      <td>1</td>\n",
       "      <td>22</td>\n",
       "      <td>1</td>\n",
       "      <td>0</td>\n",
       "      <td>1</td>\n",
       "      <td>0</td>\n",
       "    </tr>\n",
       "    <tr>\n",
       "      <th>18</th>\n",
       "      <td>Data Analyst/Programmer</td>\n",
       "      <td>$112K-$133K (Glassdoor est.)</td>\n",
       "      <td>Data Analyst/Programmer\\n\\n\\nWoodland Hills\\n\\...</td>\n",
       "      <td>3.2</td>\n",
       "      <td>Apollo Global Management\\n3.2</td>\n",
       "      <td>Woodland Hills, UT</td>\n",
       "      <td>New York, NY</td>\n",
       "      <td>1001 to 5000 employees</td>\n",
       "      <td>1990</td>\n",
       "      <td>Company - Public</td>\n",
       "      <td>...</td>\n",
       "      <td>133</td>\n",
       "      <td>122.5</td>\n",
       "      <td>Apollo Global Management</td>\n",
       "      <td>UT</td>\n",
       "      <td>0</td>\n",
       "      <td>30</td>\n",
       "      <td>1</td>\n",
       "      <td>0</td>\n",
       "      <td>1</td>\n",
       "      <td>0</td>\n",
       "    </tr>\n",
       "    <tr>\n",
       "      <th>19</th>\n",
       "      <td>Data Scientist - Statistics, Early Career</td>\n",
       "      <td>$112K-$133K (Glassdoor est.)</td>\n",
       "      <td>*Organization and Job ID**\\nJob ID: 310918\\n\\n...</td>\n",
       "      <td>3.8</td>\n",
       "      <td>Pacific Northwest National Laboratory\\n3.8</td>\n",
       "      <td>Seattle, WA</td>\n",
       "      <td>Richland, WA</td>\n",
       "      <td>1001 to 5000 employees</td>\n",
       "      <td>1965</td>\n",
       "      <td>Government</td>\n",
       "      <td>...</td>\n",
       "      <td>133</td>\n",
       "      <td>122.5</td>\n",
       "      <td>Pacific Northwest National Laboratory</td>\n",
       "      <td>WA</td>\n",
       "      <td>0</td>\n",
       "      <td>55</td>\n",
       "      <td>0</td>\n",
       "      <td>0</td>\n",
       "      <td>1</td>\n",
       "      <td>0</td>\n",
       "    </tr>\n",
       "  </tbody>\n",
       "</table>\n",
       "<p>20 rows × 25 columns</p>\n",
       "</div>"
      ],
      "text/plain": [
       "                                            Job Title  \\\n",
       "0                                      Data Scientist   \n",
       "1                                      Data Scientist   \n",
       "2                                        Data Analyst   \n",
       "3                         Data & Analytics Consultant   \n",
       "4                                        Data Analyst   \n",
       "5                                 Market Data Analyst   \n",
       "6                               Senior Data Scientist   \n",
       "7                                      Data Scientist   \n",
       "8                           Machine Learning Engineer   \n",
       "9                                       Data Engineer   \n",
       "10        Data Scientist (Palo Alto, CA or Remote US)   \n",
       "11               Junior Business Intelligence Analyst   \n",
       "12  Data Scientist, Health Economics & Advanced An...   \n",
       "13                  Data Scientist, Product Analytics   \n",
       "14                                     Data Scientist   \n",
       "15                         Data Analyst (Informatica)   \n",
       "16                              Senior Data Scientist   \n",
       "17                                     Data Scientist   \n",
       "18                            Data Analyst/Programmer   \n",
       "19          Data Scientist - Statistics, Early Career   \n",
       "\n",
       "                 Salary Estimate  \\\n",
       "0   $112K-$133K (Glassdoor est.)   \n",
       "1   $112K-$133K (Glassdoor est.)   \n",
       "2   $112K-$133K (Glassdoor est.)   \n",
       "3   $112K-$133K (Glassdoor est.)   \n",
       "4   $112K-$133K (Glassdoor est.)   \n",
       "5   $112K-$133K (Glassdoor est.)   \n",
       "6   $112K-$133K (Glassdoor est.)   \n",
       "7   $112K-$133K (Glassdoor est.)   \n",
       "8   $112K-$133K (Glassdoor est.)   \n",
       "9   $112K-$133K (Glassdoor est.)   \n",
       "10  $112K-$133K (Glassdoor est.)   \n",
       "11  $112K-$133K (Glassdoor est.)   \n",
       "12  $112K-$133K (Glassdoor est.)   \n",
       "13  $112K-$133K (Glassdoor est.)   \n",
       "14  $112K-$133K (Glassdoor est.)   \n",
       "15  $112K-$133K (Glassdoor est.)   \n",
       "16  $112K-$133K (Glassdoor est.)   \n",
       "17  $112K-$133K (Glassdoor est.)   \n",
       "18  $112K-$133K (Glassdoor est.)   \n",
       "19  $112K-$133K (Glassdoor est.)   \n",
       "\n",
       "                                      Job Description  Rating  \\\n",
       "0   About Us:\\n\\nLocated in Allen, TX Cytracom is ...     5.0   \n",
       "1   Entefy’s Senior Data Scientist is a highly vis...     4.3   \n",
       "2   Breckenridge Grand Vacations (BGV) is seeking ...     4.6   \n",
       "3   WHO WE LOOK FOR\\n\\nAn SEI Consultant is a mast...     4.6   \n",
       "4   At Make-A-Wish® America, we are more than a gr...     3.6   \n",
       "5   A bit about us:\\n\\nWe’re on a mission to chang...     4.3   \n",
       "6   GEICO’s Data Science team uses predictive anal...     3.3   \n",
       "7   As a Data Scientist, you will have the unique ...     3.3   \n",
       "8   CircleUp harnesses the power of machine learni...     4.5   \n",
       "9   U.S. citizenship is required for this position...     3.0   \n",
       "10  The Opportunity\\n\\nEversight is the recognized...     4.2   \n",
       "11  Junior Business Intelligence Analyst\\nMWE is s...    -1.0   \n",
       "12  Overview\\n\\n\\nAvalere Health is seeking a Data...     3.2   \n",
       "13  At Noom, we use scientifically proven methods ...     4.5   \n",
       "14  Why We Work at Dun & Bradstreet\\n\\n\\nWe are at...     3.0   \n",
       "15  Location: Carmel, Indiana, Eagan, Minnesota, o...     3.2   \n",
       "16  NanoMosaic LLC, located in Woburn, Massachuset...    -1.0   \n",
       "17  Data Scientist\\nAffinity Solutions / Marketing...     3.0   \n",
       "18  Data Analyst/Programmer\\n\\n\\nWoodland Hills\\n\\...     3.2   \n",
       "19  *Organization and Job ID**\\nJob ID: 310918\\n\\n...     3.8   \n",
       "\n",
       "                                  Company Name            Location  \\\n",
       "0                                Cytracom\\n5.0           Allen, TX   \n",
       "1                                  Entefy\\n4.3       Palo Alto, CA   \n",
       "2            Breckenridge Grand Vacations\\n4.6    Breckenridge, CO   \n",
       "3                                     SEI\\n4.6         Atlanta, GA   \n",
       "4       Make-A-Wish Foundation of America\\n3.6         Phoenix, AZ   \n",
       "5                          Devoted Health\\n4.3         Houston, TX   \n",
       "6                                   GEICO\\n3.3     Chevy Chase, MD   \n",
       "7                             NT Concepts\\n3.3       Chantilly, VA   \n",
       "8                                CircleUp\\n4.5   San Francisco, CA   \n",
       "9                    WPS Health Solutions\\n3.0         Madison, WI   \n",
       "10                              Eversight\\n4.2              Remote   \n",
       "11                Midwest Equipment Sales, LLC        Columbus, OH   \n",
       "12                         Avalere Health\\n3.2      Washington, DC   \n",
       "13                                Noom US\\n4.5        New York, NY   \n",
       "14                       Dun & Bradstreet\\n3.0          Austin, TX   \n",
       "15                                   MISO\\n3.2          Carmel, IN   \n",
       "16                                  NanoMosaic          Woburn, MA   \n",
       "17                     Affinity Solutions\\n3.0        New York, NY   \n",
       "18               Apollo Global Management\\n3.2  Woodland Hills, UT   \n",
       "19  Pacific Northwest National Laboratory\\n3.8         Seattle, WA   \n",
       "\n",
       "         Headquarters                    Size  Founded  \\\n",
       "0           Allen, TX       1 to 50 employees     2008   \n",
       "1       Palo Alto, CA       1 to 50 employees     2012   \n",
       "2    Breckenridge, CO   501 to 1000 employees     1984   \n",
       "3      Cincinnati, OH    201 to 500 employees     1992   \n",
       "4         Phoenix, AZ  1001 to 5000 employees     1980   \n",
       "5         Waltham, MA    201 to 500 employees     2017   \n",
       "6      Washington, DC        10000+ employees     1936   \n",
       "7          Vienna, VA   501 to 1000 employees     1998   \n",
       "8   San Francisco, CA     51 to 200 employees     2012   \n",
       "9          Monona, WI  1001 to 5000 employees     1946   \n",
       "10      Palo Alto, CA     51 to 200 employees     2013   \n",
       "11                 -1                      -1       -1   \n",
       "12     Washington, DC    201 to 500 employees     2000   \n",
       "13       New York, NY  1001 to 5000 employees     2008   \n",
       "14    Short Hills, NJ  1001 to 5000 employees     1841   \n",
       "15         Carmel, IN   501 to 1000 employees     1998   \n",
       "16         Woburn, MA                 Unknown       -1   \n",
       "17       New York, NY     51 to 200 employees     1998   \n",
       "18       New York, NY  1001 to 5000 employees     1990   \n",
       "19       Richland, WA  1001 to 5000 employees     1965   \n",
       "\n",
       "                 Type of ownership  ... max_salary avg_salary  \\\n",
       "0                Company - Private  ...        133      122.5   \n",
       "1                Company - Private  ...        133      122.5   \n",
       "2                Company - Private  ...        133      122.5   \n",
       "3                Company - Private  ...        133      122.5   \n",
       "4           Nonprofit Organization  ...        133      122.5   \n",
       "5                Company - Private  ...        133      122.5   \n",
       "6   Subsidiary or Business Segment  ...        133      122.5   \n",
       "7                Company - Private  ...        133      122.5   \n",
       "8                Company - Private  ...        133      122.5   \n",
       "9                Company - Private  ...        133      122.5   \n",
       "10               Company - Private  ...        133      122.5   \n",
       "11                              -1  ...        133      122.5   \n",
       "12                Company - Public  ...        133      122.5   \n",
       "13               Company - Private  ...        133      122.5   \n",
       "14                Company - Public  ...        133      122.5   \n",
       "15          Nonprofit Organization  ...        133      122.5   \n",
       "16                         Unknown  ...        133      122.5   \n",
       "17               Company - Private  ...        133      122.5   \n",
       "18                Company - Public  ...        133      122.5   \n",
       "19                      Government  ...        133      122.5   \n",
       "\n",
       "                              company_txt   State  same_state  Company_age  \\\n",
       "0                                Cytracom      TX           1           12   \n",
       "1                                  Entefy      CA           1            8   \n",
       "2            Breckenridge Grand Vacations      CO           1           36   \n",
       "3                                     SEI      GA           0           28   \n",
       "4       Make-A-Wish Foundation of America      AZ           1           40   \n",
       "5                          Devoted Health      TX           0            3   \n",
       "6                                   GEICO      MD           0           84   \n",
       "7                             NT Concepts      VA           0           22   \n",
       "8                                CircleUp      CA           1            8   \n",
       "9                    WPS Health Solutions      WI           0           74   \n",
       "10                              Eversight  Remote           0            7   \n",
       "11           Midwest Equipment Sales, LLC      OH           0           -1   \n",
       "12                         Avalere Health      DC           1           20   \n",
       "13                                Noom US      NY           1           12   \n",
       "14                       Dun & Bradstreet      TX           0          179   \n",
       "15                                   MISO      IN           1           22   \n",
       "16                             NanoMosaic      MA           1           -1   \n",
       "17                     Affinity Solutions      NY           1           22   \n",
       "18               Apollo Global Management      UT           0           30   \n",
       "19  Pacific Northwest National Laboratory      WA           0           55   \n",
       "\n",
       "    python_req rstudio_req excel_req  spark_req  \n",
       "0            1           0         0          0  \n",
       "1            1           0         0          0  \n",
       "2            1           0         1          0  \n",
       "3            1           0         1          0  \n",
       "4            0           0         0          0  \n",
       "5            0           0         1          0  \n",
       "6            1           0         1          1  \n",
       "7            0           0         0          0  \n",
       "8            0           0         1          0  \n",
       "9            1           0         1          0  \n",
       "10           1           0         0          0  \n",
       "11           0           0         0          0  \n",
       "12           1           0         1          0  \n",
       "13           1           0         1          0  \n",
       "14           1           0         0          0  \n",
       "15           0           0         0          0  \n",
       "16           1           0         1          0  \n",
       "17           1           0         1          0  \n",
       "18           1           0         1          0  \n",
       "19           0           0         1          0  \n",
       "\n",
       "[20 rows x 25 columns]"
      ]
     },
     "execution_count": 74,
     "metadata": {},
     "output_type": "execute_result"
    }
   ],
   "source": [
    "#displaying first five rows and columns\n",
    "df.head(20)"
   ]
  },
  {
   "cell_type": "code",
   "execution_count": 6,
   "metadata": {},
   "outputs": [
    {
     "data": {
      "text/plain": [
       "Index(['Job Title', 'Salary Estimate', 'Job Description', 'Rating',\n",
       "       'Company Name', 'Location', 'Headquarters', 'Size', 'Founded',\n",
       "       'Type of ownership', 'Industry', 'Sector', 'Revenue', 'Competitors'],\n",
       "      dtype='object')"
      ]
     },
     "execution_count": 6,
     "metadata": {},
     "output_type": "execute_result"
    }
   ],
   "source": [
    "df.columns"
   ]
  },
  {
   "cell_type": "code",
   "execution_count": 7,
   "metadata": {},
   "outputs": [
    {
     "data": {
      "text/plain": [
       "(200, 14)"
      ]
     },
     "execution_count": 7,
     "metadata": {},
     "output_type": "execute_result"
    }
   ],
   "source": [
    "df.shape"
   ]
  },
  {
   "cell_type": "code",
   "execution_count": 8,
   "metadata": {},
   "outputs": [
    {
     "name": "stdout",
     "output_type": "stream",
     "text": [
      "<class 'pandas.core.frame.DataFrame'>\n",
      "RangeIndex: 200 entries, 0 to 199\n",
      "Data columns (total 14 columns):\n",
      " #   Column             Non-Null Count  Dtype  \n",
      "---  ------             --------------  -----  \n",
      " 0   Job Title          200 non-null    object \n",
      " 1   Salary Estimate    200 non-null    object \n",
      " 2   Job Description    200 non-null    object \n",
      " 3   Rating             200 non-null    float64\n",
      " 4   Company Name       200 non-null    object \n",
      " 5   Location           200 non-null    object \n",
      " 6   Headquarters       200 non-null    object \n",
      " 7   Size               200 non-null    object \n",
      " 8   Founded            200 non-null    int64  \n",
      " 9   Type of ownership  200 non-null    object \n",
      " 10  Industry           200 non-null    object \n",
      " 11  Sector             200 non-null    object \n",
      " 12  Revenue            200 non-null    object \n",
      " 13  Competitors        200 non-null    object \n",
      "dtypes: float64(1), int64(1), object(12)\n",
      "memory usage: 22.0+ KB\n"
     ]
    }
   ],
   "source": [
    "df.info()"
   ]
  },
  {
   "cell_type": "code",
   "execution_count": 9,
   "metadata": {},
   "outputs": [],
   "source": [
    "#Things to do \n",
    "#salary pursing#\n",
    "#company name text only\n",
    "#state column\n",
    "#age of company\n",
    "#parsing of jobs descriptions\n"
   ]
  },
  {
   "cell_type": "code",
   "execution_count": 10,
   "metadata": {},
   "outputs": [],
   "source": [
    "#salary pursing#"
   ]
  },
  {
   "cell_type": "code",
   "execution_count": 11,
   "metadata": {},
   "outputs": [],
   "source": [
    "#checking if salary estimate column has -1i.e no salaray\n",
    "df=df[df['Salary Estimate']!=-1]"
   ]
  },
  {
   "cell_type": "code",
   "execution_count": 12,
   "metadata": {},
   "outputs": [
    {
     "data": {
      "text/plain": [
       "(200, 14)"
      ]
     },
     "execution_count": 12,
     "metadata": {},
     "output_type": "execute_result"
    }
   ],
   "source": [
    "df.shape"
   ]
  },
  {
   "cell_type": "code",
   "execution_count": 13,
   "metadata": {},
   "outputs": [],
   "source": [
    "#making column for per hour and employee provided salary if that in Salary Estimate column\n",
    "#hourly column 1 if per hour in df\n",
    "#df['hourly']=df['Salary Estimate'].apply(lambda x: 1 if 'per hour' in x.lower()else 0)\n",
    "\n",
    "#employee_provided column 1 if emplyee provided salary: in df\n",
    "#df['employee_provided']= df['Salry Estimate'].apply(lambda x: 1 if 'emplyee provided salary:' in x.lower()else 0))"
   ]
  },
  {
   "cell_type": "code",
   "execution_count": 14,
   "metadata": {},
   "outputs": [],
   "source": [
    "#splitting Salary Estimate column by '(' and choosing only first number part\n",
    "salary = df['Salary Estimate'].apply(lambda x: x.split('(') [0])"
   ]
  },
  {
   "cell_type": "code",
   "execution_count": 15,
   "metadata": {},
   "outputs": [
    {
     "data": {
      "text/plain": [
       "0      $112K-$133K \n",
       "1      $112K-$133K \n",
       "2      $112K-$133K \n",
       "3      $112K-$133K \n",
       "4      $112K-$133K \n",
       "           ...     \n",
       "195     $75K-$127K \n",
       "196     $75K-$127K \n",
       "197     $75K-$127K \n",
       "198     $75K-$127K \n",
       "199     $75K-$127K \n",
       "Name: Salary Estimate, Length: 200, dtype: object"
      ]
     },
     "execution_count": 15,
     "metadata": {},
     "output_type": "execute_result"
    }
   ],
   "source": [
    "salary"
   ]
  },
  {
   "cell_type": "code",
   "execution_count": 16,
   "metadata": {},
   "outputs": [],
   "source": [
    "#removing K and $ sign from salary \n",
    "minus_kd=salary.apply(lambda x: x.replace('K', ' '). replace('$', ' '))"
   ]
  },
  {
   "cell_type": "code",
   "execution_count": null,
   "metadata": {},
   "outputs": [],
   "source": []
  },
  {
   "cell_type": "code",
   "execution_count": 17,
   "metadata": {},
   "outputs": [],
   "source": [
    "#removing per hour and employee provided salary from Salary Estimate (if thats in column)\n",
    "#minus_hr = minus_kd.apply(lambda x: x.lower().replace('per hour', '').replace('emoloyee provided salary:', ''))"
   ]
  },
  {
   "cell_type": "code",
   "execution_count": 18,
   "metadata": {},
   "outputs": [],
   "source": [
    "# making minimum salary column\n",
    "df['min_salary']=minus_kd.apply(lambda x: int(x.split('-')[0]))"
   ]
  },
  {
   "cell_type": "code",
   "execution_count": 19,
   "metadata": {},
   "outputs": [],
   "source": [
    "#making maximum salary column\n",
    "df['max_salary']=minus_kd.apply(lambda x: int(x.split('-')[1]))"
   ]
  },
  {
   "cell_type": "code",
   "execution_count": 20,
   "metadata": {},
   "outputs": [],
   "source": [
    "df['avg_salary']=(df.min_salary+df.max_salary)/2"
   ]
  },
  {
   "cell_type": "code",
   "execution_count": 21,
   "metadata": {},
   "outputs": [],
   "source": [
    "#company name text only#"
   ]
  },
  {
   "cell_type": "code",
   "execution_count": 22,
   "metadata": {},
   "outputs": [
    {
     "data": {
      "text/plain": [
       "0                               Cytracom\\n5.0\n",
       "1                                 Entefy\\n4.3\n",
       "2           Breckenridge Grand Vacations\\n4.6\n",
       "3                                    SEI\\n4.6\n",
       "4      Make-A-Wish Foundation of America\\n3.6\n",
       "                        ...                  \n",
       "195         Southwest Research Institute\\n4.1\n",
       "196              Plymouth Rock Assurance\\n3.5\n",
       "197                            Blackbaud\\n3.6\n",
       "198                         CA-One Tech Cloud\n",
       "199                     Crown Bioscience\\n2.4\n",
       "Name: Company Name, Length: 200, dtype: object"
      ]
     },
     "execution_count": 22,
     "metadata": {},
     "output_type": "execute_result"
    }
   ],
   "source": [
    "df['Company Name']"
   ]
  },
  {
   "cell_type": "code",
   "execution_count": 23,
   "metadata": {},
   "outputs": [],
   "source": [
    "#removing rating number from Company Name. Since if there is no rating in Rating column there is no rating number in Company Name column)\n",
    "df['company_txt']=df.apply(lambda x: x['Company Name'] if x['Rating']<0 else x['Company Name'][:-4], axis=1 )"
   ]
  },
  {
   "cell_type": "code",
   "execution_count": 24,
   "metadata": {},
   "outputs": [
    {
     "data": {
      "text/plain": [
       "0                               Cytracom\n",
       "1                                 Entefy\n",
       "2           Breckenridge Grand Vacations\n",
       "3                                    SEI\n",
       "4      Make-A-Wish Foundation of America\n",
       "                     ...                \n",
       "195         Southwest Research Institute\n",
       "196              Plymouth Rock Assurance\n",
       "197                            Blackbaud\n",
       "198                    CA-One Tech Cloud\n",
       "199                     Crown Bioscience\n",
       "Name: company_txt, Length: 200, dtype: object"
      ]
     },
     "execution_count": 24,
     "metadata": {},
     "output_type": "execute_result"
    }
   ],
   "source": [
    "df['company_txt']"
   ]
  },
  {
   "cell_type": "code",
   "execution_count": 25,
   "metadata": {},
   "outputs": [],
   "source": [
    "#state column#"
   ]
  },
  {
   "cell_type": "code",
   "execution_count": 44,
   "metadata": {},
   "outputs": [],
   "source": [
    "#making state column\n",
    "df['State'] = df['Location'].apply(lambda x: x.split(',')[-1])"
   ]
  },
  {
   "cell_type": "code",
   "execution_count": 46,
   "metadata": {},
   "outputs": [
    {
     "data": {
      "text/plain": [
       " CA              39\n",
       " NY              18\n",
       " TX              17\n",
       " VA              15\n",
       " MA              13\n",
       " MD               9\n",
       " WI               7\n",
       " OH               7\n",
       "Remote            6\n",
       " IL               6\n",
       " DC               5\n",
       " WA               5\n",
       " CO               5\n",
       " UT               4\n",
       " MN               4\n",
       " GA               3\n",
       "United States     3\n",
       " AZ               3\n",
       " PA               3\n",
       " MO               3\n",
       " IN               3\n",
       " NE               2\n",
       " NC               2\n",
       " NJ               2\n",
       " CT               1\n",
       " MS               1\n",
       "Virginia          1\n",
       "Utah              1\n",
       " RI               1\n",
       " MI               1\n",
       " DE               1\n",
       " OR               1\n",
       " NV               1\n",
       "New Jersey        1\n",
       " KS               1\n",
       " FL               1\n",
       " OK               1\n",
       " ND               1\n",
       " AL               1\n",
       " LA               1\n",
       "Name: State, dtype: int64"
      ]
     },
     "execution_count": 46,
     "metadata": {},
     "output_type": "execute_result"
    }
   ],
   "source": [
    "#looking job for each state\n",
    "df['State'].value_counts()"
   ]
  },
  {
   "cell_type": "code",
   "execution_count": 57,
   "metadata": {},
   "outputs": [],
   "source": [
    "#checking if job posting are in headquaters \n",
    "df['same_state']=df.apply(lambda x: 1 if x['Location'] == x['Headquarters'] else 0, axis=1)"
   ]
  },
  {
   "cell_type": "code",
   "execution_count": 58,
   "metadata": {},
   "outputs": [
    {
     "data": {
      "text/plain": [
       "0      1\n",
       "1      1\n",
       "2      1\n",
       "3      0\n",
       "4      1\n",
       "      ..\n",
       "195    1\n",
       "196    0\n",
       "197    0\n",
       "198    0\n",
       "199    1\n",
       "Name: same_state, Length: 200, dtype: int64"
      ]
     },
     "execution_count": 58,
     "metadata": {},
     "output_type": "execute_result"
    }
   ],
   "source": [
    "df['same_state']"
   ]
  },
  {
   "cell_type": "code",
   "execution_count": 61,
   "metadata": {},
   "outputs": [],
   "source": [
    "#age of company#\n",
    "df['Company_age'] = df['Founded'].apply(lambda x: x if x<1 else 2020-x )"
   ]
  },
  {
   "cell_type": "code",
   "execution_count": null,
   "metadata": {},
   "outputs": [],
   "source": []
  },
  {
   "cell_type": "code",
   "execution_count": 62,
   "metadata": {},
   "outputs": [],
   "source": [
    "#parsing job description#"
   ]
  },
  {
   "cell_type": "code",
   "execution_count": 63,
   "metadata": {},
   "outputs": [
    {
     "data": {
      "text/plain": [
       "\"About Us:\\n\\nLocated in Allen, TX Cytracom is the leading SaaS provider of business voice services delivered through the IT channel and our mission is to make business communications simple!\\n\\nAs for the culture, we love going to work and think you should too! The team holds our company culture near and dear as it represents an intermix between passion for leadership and passion for an active, healthy life centered around family and friends. Cytracom represents community, collaboration, camaraderie and we are DOUBLING in size this year! It's a very exciting time here at Cytracom and we are focused on finding the best talent as we continue to grow!\\n\\nOur Benefits:\\n\\n• Medical, dental, and vision insurance is available\\n• 401K\\n• Disability insurance\\n• Paid vacations and holidays\\n• Flexible PTO policy\\n• Casual, laid-back work environment\\n• Free snacks\\n\\nHere's a closer look at this key role:\\n\\nThe Data Scientist will use data-based insights to conceptualize, plan, and develop solutions to solve complex problems. In this role, you will be responsible for discovering information and identifying patterns within vast amounts of data and using that data to help our teams make smarter decisions. Your primary focus will be in applying data mining techniques, data visualization, doing statistical analysis, and building high-quality prediction systems.\\n\\nRequirements:\\n2+ years of recent experience working as a data scientist.\\nExpertise in SQL (including but not limited to transforming data) and proficiency in another data programming language (Python, R, etc.)\\nExperience in creating experiments and analyzing results that drive key decisions\\nProficiency in one or more analytics & visualization tools (e.g., Looker, Tableau, etc.)\\nStrong interpersonal skills and the ability to tailor communication such as analyses and interpretations to match the audience\\nWe prefer someone who currently lives in the DFW metroplex\\nResponsibilities:\\nMaintain solid working relationships with all stakeholders, primarily the Executive Team.\\nWork with business experts to better understand goals and identify alternative approaches to extract insights from data.\\nDrive adoption of BI platform across organization\\nPresent ideas/analyses/interpretations in a clear, concise manner tailored to audience\\nMaintain integrity, organization and consistency of data by coordinating with system administration to ensure accurate data input or collection and by managing ETL processes\""
      ]
     },
     "execution_count": 63,
     "metadata": {},
     "output_type": "execute_result"
    }
   ],
   "source": [
    "#looking for one company job description\n",
    "df['Job Description'][0]"
   ]
  },
  {
   "cell_type": "code",
   "execution_count": 75,
   "metadata": {},
   "outputs": [
    {
     "data": {
      "text/plain": [
       "1    135\n",
       "0     65\n",
       "Name: python_req, dtype: int64"
      ]
     },
     "execution_count": 75,
     "metadata": {},
     "output_type": "execute_result"
    }
   ],
   "source": [
    "#python\n",
    "df['python_req'] = df['Job Description'].apply(lambda x: 1 if 'python' in x.lower() else 0)\n",
    "df['python_req']. value_counts()"
   ]
  },
  {
   "cell_type": "code",
   "execution_count": 79,
   "metadata": {},
   "outputs": [
    {
     "data": {
      "text/plain": [
       "0    198\n",
       "1      2\n",
       "Name: rstudio_req, dtype: int64"
      ]
     },
     "execution_count": 79,
     "metadata": {},
     "output_type": "execute_result"
    }
   ],
   "source": [
    "#R studio\n",
    "df['rstudio_req'] = df['Job Description'].apply(lambda x: 1 if 'r' and 'r studio' in x.lower() else 0)\n",
    "df['rstudio_req']. value_counts()"
   ]
  },
  {
   "cell_type": "code",
   "execution_count": 80,
   "metadata": {},
   "outputs": [
    {
     "data": {
      "text/plain": [
       "1    103\n",
       "0     97\n",
       "Name: excel_req, dtype: int64"
      ]
     },
     "execution_count": 80,
     "metadata": {},
     "output_type": "execute_result"
    }
   ],
   "source": [
    "#Excel\n",
    "df['excel_req'] = df['Job Description'].apply(lambda x: 1 if 'excel' in x.lower() else 0)\n",
    "df['excel_req'].value_counts()"
   ]
  },
  {
   "cell_type": "code",
   "execution_count": 81,
   "metadata": {},
   "outputs": [
    {
     "data": {
      "text/plain": [
       "0    156\n",
       "1     44\n",
       "Name: spark_req, dtype: int64"
      ]
     },
     "execution_count": 81,
     "metadata": {},
     "output_type": "execute_result"
    }
   ],
   "source": [
    "#spark\n",
    "df['spark_req'] = df['Job Description'].apply(lambda x: 1 if 'spark' in x.lower() else 0)\n",
    "df['spark_req'].value_counts()"
   ]
  },
  {
   "cell_type": "code",
   "execution_count": null,
   "metadata": {},
   "outputs": [],
   "source": []
  },
  {
   "cell_type": "code",
   "execution_count": null,
   "metadata": {},
   "outputs": [],
   "source": []
  }
 ],
 "metadata": {
  "kernelspec": {
   "display_name": "Python 3",
   "language": "python",
   "name": "python3"
  },
  "language_info": {
   "codemirror_mode": {
    "name": "ipython",
    "version": 3
   },
   "file_extension": ".py",
   "mimetype": "text/x-python",
   "name": "python",
   "nbconvert_exporter": "python",
   "pygments_lexer": "ipython3",
   "version": "3.7.3"
  }
 },
 "nbformat": 4,
 "nbformat_minor": 2
}
